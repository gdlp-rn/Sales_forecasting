{
  "nbformat": 4,
  "nbformat_minor": 0,
  "metadata": {
    "colab": {
      "name": "Project 2 part 4.ipynb",
      "provenance": [],
      "collapsed_sections": []
    },
    "kernelspec": {
      "name": "python3",
      "display_name": "Python 3"
    },
    "language_info": {
      "name": "python"
    }
  },
  "cells": [
    {
      "cell_type": "markdown",
      "source": [
        "Prepare and Clean Data"
      ],
      "metadata": {
        "id": "MnuKJRx7Zpih"
      }
    },
    {
      "cell_type": "code",
      "source": [
        "###mount Google Drive \n",
        "from google.colab import drive\n",
        "drive.mount('/content/drive')\n"
      ],
      "metadata": {
        "colab": {
          "base_uri": "https://localhost:8080/"
        },
        "id": "PJKDhAi7XvHf",
        "outputId": "96e4bc76-822f-4358-e17e-b6669c903c1f"
      },
      "execution_count": 1,
      "outputs": [
        {
          "output_type": "stream",
          "name": "stdout",
          "text": [
            "Drive already mounted at /content/drive; to attempt to forcibly remount, call drive.mount(\"/content/drive\", force_remount=True).\n"
          ]
        }
      ]
    },
    {
      "cell_type": "code",
      "source": [
        "###import libraries\n",
        "import matplotlib.pyplot as plt\n",
        "import seaborn as sns\n",
        "import pandas as pd\n",
        "import numpy as np\n",
        "import math\n",
        "import re\n",
        "import scipy.stats as stats\n",
        "from sklearn import metrics\n",
        "\n",
        "from sklearn.compose import make_column_selector, make_column_transformer\n",
        "from sklearn.impute import SimpleImputer\n",
        "from sklearn.preprocessing import StandardScaler, OneHotEncoder\n",
        "from sklearn.pipeline import make_pipeline\n",
        "\n",
        "from sklearn.model_selection import train_test_split\n",
        "from sklearn.linear_model import LinearRegression, LogisticRegression\n",
        "from sklearn.ensemble import RandomForestRegressor\n",
        "from sklearn.tree import DecisionTreeRegressor, DecisionTreeClassifier\n",
        "from sklearn.ensemble import BaggingClassifier\n",
        "from sklearn.ensemble import RandomForestClassifier\n",
        "from sklearn import set_config\n",
        "set_config(display = 'diagram')\n",
        "from sklearn.model_selection import RandomizedSearchCV\n",
        "from sklearn.metrics import plot_confusion_matrix\n",
        "import sklearn\n",
        "from sklearn.impute import SimpleImputer\n",
        "from termcolor import colored as cl \n",
        "import seaborn as sb \n",
        "from mpl_toolkits.mplot3d import Axes3D \n",
        "from sklearn.metrics import silhouette_score\n",
        "\n",
        "import warnings\n",
        "warnings.filterwarnings('ignore')\n",
        "### source (google colab shared to the class and Learn Platform and other readings cited below)"
      ],
      "metadata": {
        "id": "yRfTEzdtZRbQ"
      },
      "execution_count": 2,
      "outputs": []
    },
    {
      "cell_type": "code",
      "source": [
        "# use the dataset file  saved in the Google drive\n",
        "filename = '/content/drive/MyDrive/Colab Notebooks/Machine Learning/exams.csv'\n",
        "df = pd.read_csv(filename)\n",
        "df"
      ],
      "metadata": {
        "colab": {
          "base_uri": "https://localhost:8080/",
          "height": 424
        },
        "id": "nipJtm1QXiwd",
        "outputId": "87c54567-33b5-40e8-c9c8-217a7cace79c"
      },
      "execution_count": 3,
      "outputs": [
        {
          "output_type": "execute_result",
          "data": {
            "text/plain": [
              "     gender race/ethnicity parental level of education         lunch  \\\n",
              "0    female        group A            some high school      standard   \n",
              "1      male        group A             master's degree  free/reduced   \n",
              "2      male        group A                 high school  free/reduced   \n",
              "3    female        group B            some high school  free/reduced   \n",
              "4      male        group B            some high school  free/reduced   \n",
              "..      ...            ...                         ...           ...   \n",
              "995  female        group B           bachelor's degree      standard   \n",
              "996  female        group B            some high school      standard   \n",
              "997    male        group B          associate's degree      standard   \n",
              "998  female        group D                 high school      standard   \n",
              "999    male        group D                 high school      standard   \n",
              "\n",
              "    test preparation course  math score  reading score  writing score  \n",
              "0                      none          35             47             42  \n",
              "1                      none          72             71             66  \n",
              "2                      none          79             79             71  \n",
              "3                 completed          57             70             69  \n",
              "4                      none          51             44             39  \n",
              "..                      ...         ...            ...            ...  \n",
              "995               completed          63             70             72  \n",
              "996                    none          49             52             55  \n",
              "997                    none          80             77             74  \n",
              "998                    none          79             81             76  \n",
              "999               completed          55             54             58  \n",
              "\n",
              "[1000 rows x 8 columns]"
            ],
            "text/html": [
              "\n",
              "  <div id=\"df-62c55d0d-3431-497f-8447-08c97dc61b86\">\n",
              "    <div class=\"colab-df-container\">\n",
              "      <div>\n",
              "<style scoped>\n",
              "    .dataframe tbody tr th:only-of-type {\n",
              "        vertical-align: middle;\n",
              "    }\n",
              "\n",
              "    .dataframe tbody tr th {\n",
              "        vertical-align: top;\n",
              "    }\n",
              "\n",
              "    .dataframe thead th {\n",
              "        text-align: right;\n",
              "    }\n",
              "</style>\n",
              "<table border=\"1\" class=\"dataframe\">\n",
              "  <thead>\n",
              "    <tr style=\"text-align: right;\">\n",
              "      <th></th>\n",
              "      <th>gender</th>\n",
              "      <th>race/ethnicity</th>\n",
              "      <th>parental level of education</th>\n",
              "      <th>lunch</th>\n",
              "      <th>test preparation course</th>\n",
              "      <th>math score</th>\n",
              "      <th>reading score</th>\n",
              "      <th>writing score</th>\n",
              "    </tr>\n",
              "  </thead>\n",
              "  <tbody>\n",
              "    <tr>\n",
              "      <th>0</th>\n",
              "      <td>female</td>\n",
              "      <td>group A</td>\n",
              "      <td>some high school</td>\n",
              "      <td>standard</td>\n",
              "      <td>none</td>\n",
              "      <td>35</td>\n",
              "      <td>47</td>\n",
              "      <td>42</td>\n",
              "    </tr>\n",
              "    <tr>\n",
              "      <th>1</th>\n",
              "      <td>male</td>\n",
              "      <td>group A</td>\n",
              "      <td>master's degree</td>\n",
              "      <td>free/reduced</td>\n",
              "      <td>none</td>\n",
              "      <td>72</td>\n",
              "      <td>71</td>\n",
              "      <td>66</td>\n",
              "    </tr>\n",
              "    <tr>\n",
              "      <th>2</th>\n",
              "      <td>male</td>\n",
              "      <td>group A</td>\n",
              "      <td>high school</td>\n",
              "      <td>free/reduced</td>\n",
              "      <td>none</td>\n",
              "      <td>79</td>\n",
              "      <td>79</td>\n",
              "      <td>71</td>\n",
              "    </tr>\n",
              "    <tr>\n",
              "      <th>3</th>\n",
              "      <td>female</td>\n",
              "      <td>group B</td>\n",
              "      <td>some high school</td>\n",
              "      <td>free/reduced</td>\n",
              "      <td>completed</td>\n",
              "      <td>57</td>\n",
              "      <td>70</td>\n",
              "      <td>69</td>\n",
              "    </tr>\n",
              "    <tr>\n",
              "      <th>4</th>\n",
              "      <td>male</td>\n",
              "      <td>group B</td>\n",
              "      <td>some high school</td>\n",
              "      <td>free/reduced</td>\n",
              "      <td>none</td>\n",
              "      <td>51</td>\n",
              "      <td>44</td>\n",
              "      <td>39</td>\n",
              "    </tr>\n",
              "    <tr>\n",
              "      <th>...</th>\n",
              "      <td>...</td>\n",
              "      <td>...</td>\n",
              "      <td>...</td>\n",
              "      <td>...</td>\n",
              "      <td>...</td>\n",
              "      <td>...</td>\n",
              "      <td>...</td>\n",
              "      <td>...</td>\n",
              "    </tr>\n",
              "    <tr>\n",
              "      <th>995</th>\n",
              "      <td>female</td>\n",
              "      <td>group B</td>\n",
              "      <td>bachelor's degree</td>\n",
              "      <td>standard</td>\n",
              "      <td>completed</td>\n",
              "      <td>63</td>\n",
              "      <td>70</td>\n",
              "      <td>72</td>\n",
              "    </tr>\n",
              "    <tr>\n",
              "      <th>996</th>\n",
              "      <td>female</td>\n",
              "      <td>group B</td>\n",
              "      <td>some high school</td>\n",
              "      <td>standard</td>\n",
              "      <td>none</td>\n",
              "      <td>49</td>\n",
              "      <td>52</td>\n",
              "      <td>55</td>\n",
              "    </tr>\n",
              "    <tr>\n",
              "      <th>997</th>\n",
              "      <td>male</td>\n",
              "      <td>group B</td>\n",
              "      <td>associate's degree</td>\n",
              "      <td>standard</td>\n",
              "      <td>none</td>\n",
              "      <td>80</td>\n",
              "      <td>77</td>\n",
              "      <td>74</td>\n",
              "    </tr>\n",
              "    <tr>\n",
              "      <th>998</th>\n",
              "      <td>female</td>\n",
              "      <td>group D</td>\n",
              "      <td>high school</td>\n",
              "      <td>standard</td>\n",
              "      <td>none</td>\n",
              "      <td>79</td>\n",
              "      <td>81</td>\n",
              "      <td>76</td>\n",
              "    </tr>\n",
              "    <tr>\n",
              "      <th>999</th>\n",
              "      <td>male</td>\n",
              "      <td>group D</td>\n",
              "      <td>high school</td>\n",
              "      <td>standard</td>\n",
              "      <td>completed</td>\n",
              "      <td>55</td>\n",
              "      <td>54</td>\n",
              "      <td>58</td>\n",
              "    </tr>\n",
              "  </tbody>\n",
              "</table>\n",
              "<p>1000 rows × 8 columns</p>\n",
              "</div>\n",
              "      <button class=\"colab-df-convert\" onclick=\"convertToInteractive('df-62c55d0d-3431-497f-8447-08c97dc61b86')\"\n",
              "              title=\"Convert this dataframe to an interactive table.\"\n",
              "              style=\"display:none;\">\n",
              "        \n",
              "  <svg xmlns=\"http://www.w3.org/2000/svg\" height=\"24px\"viewBox=\"0 0 24 24\"\n",
              "       width=\"24px\">\n",
              "    <path d=\"M0 0h24v24H0V0z\" fill=\"none\"/>\n",
              "    <path d=\"M18.56 5.44l.94 2.06.94-2.06 2.06-.94-2.06-.94-.94-2.06-.94 2.06-2.06.94zm-11 1L8.5 8.5l.94-2.06 2.06-.94-2.06-.94L8.5 2.5l-.94 2.06-2.06.94zm10 10l.94 2.06.94-2.06 2.06-.94-2.06-.94-.94-2.06-.94 2.06-2.06.94z\"/><path d=\"M17.41 7.96l-1.37-1.37c-.4-.4-.92-.59-1.43-.59-.52 0-1.04.2-1.43.59L10.3 9.45l-7.72 7.72c-.78.78-.78 2.05 0 2.83L4 21.41c.39.39.9.59 1.41.59.51 0 1.02-.2 1.41-.59l7.78-7.78 2.81-2.81c.8-.78.8-2.07 0-2.86zM5.41 20L4 18.59l7.72-7.72 1.47 1.35L5.41 20z\"/>\n",
              "  </svg>\n",
              "      </button>\n",
              "      \n",
              "  <style>\n",
              "    .colab-df-container {\n",
              "      display:flex;\n",
              "      flex-wrap:wrap;\n",
              "      gap: 12px;\n",
              "    }\n",
              "\n",
              "    .colab-df-convert {\n",
              "      background-color: #E8F0FE;\n",
              "      border: none;\n",
              "      border-radius: 50%;\n",
              "      cursor: pointer;\n",
              "      display: none;\n",
              "      fill: #1967D2;\n",
              "      height: 32px;\n",
              "      padding: 0 0 0 0;\n",
              "      width: 32px;\n",
              "    }\n",
              "\n",
              "    .colab-df-convert:hover {\n",
              "      background-color: #E2EBFA;\n",
              "      box-shadow: 0px 1px 2px rgba(60, 64, 67, 0.3), 0px 1px 3px 1px rgba(60, 64, 67, 0.15);\n",
              "      fill: #174EA6;\n",
              "    }\n",
              "\n",
              "    [theme=dark] .colab-df-convert {\n",
              "      background-color: #3B4455;\n",
              "      fill: #D2E3FC;\n",
              "    }\n",
              "\n",
              "    [theme=dark] .colab-df-convert:hover {\n",
              "      background-color: #434B5C;\n",
              "      box-shadow: 0px 1px 3px 1px rgba(0, 0, 0, 0.15);\n",
              "      filter: drop-shadow(0px 1px 2px rgba(0, 0, 0, 0.3));\n",
              "      fill: #FFFFFF;\n",
              "    }\n",
              "  </style>\n",
              "\n",
              "      <script>\n",
              "        const buttonEl =\n",
              "          document.querySelector('#df-62c55d0d-3431-497f-8447-08c97dc61b86 button.colab-df-convert');\n",
              "        buttonEl.style.display =\n",
              "          google.colab.kernel.accessAllowed ? 'block' : 'none';\n",
              "\n",
              "        async function convertToInteractive(key) {\n",
              "          const element = document.querySelector('#df-62c55d0d-3431-497f-8447-08c97dc61b86');\n",
              "          const dataTable =\n",
              "            await google.colab.kernel.invokeFunction('convertToInteractive',\n",
              "                                                     [key], {});\n",
              "          if (!dataTable) return;\n",
              "\n",
              "          const docLinkHtml = 'Like what you see? Visit the ' +\n",
              "            '<a target=\"_blank\" href=https://colab.research.google.com/notebooks/data_table.ipynb>data table notebook</a>'\n",
              "            + ' to learn more about interactive tables.';\n",
              "          element.innerHTML = '';\n",
              "          dataTable['output_type'] = 'display_data';\n",
              "          await google.colab.output.renderOutput(dataTable, element);\n",
              "          const docLink = document.createElement('div');\n",
              "          docLink.innerHTML = docLinkHtml;\n",
              "          element.appendChild(docLink);\n",
              "        }\n",
              "      </script>\n",
              "    </div>\n",
              "  </div>\n",
              "  "
            ]
          },
          "metadata": {},
          "execution_count": 3
        }
      ]
    },
    {
      "cell_type": "code",
      "source": [
        "### determine the null values\n",
        "df.isnull().sum()"
      ],
      "metadata": {
        "colab": {
          "base_uri": "https://localhost:8080/"
        },
        "id": "0B9J900D2JhJ",
        "outputId": "88b14ee8-5e06-4121-d30c-8d52b267442f"
      },
      "execution_count": 4,
      "outputs": [
        {
          "output_type": "execute_result",
          "data": {
            "text/plain": [
              "gender                         0\n",
              "race/ethnicity                 0\n",
              "parental level of education    0\n",
              "lunch                          0\n",
              "test preparation course        0\n",
              "math score                     0\n",
              "reading score                  0\n",
              "writing score                  0\n",
              "dtype: int64"
            ]
          },
          "metadata": {},
          "execution_count": 4
        }
      ]
    },
    {
      "cell_type": "code",
      "source": [
        "### get the statistical summary of the numerical data \n",
        "df.describe()"
      ],
      "metadata": {
        "colab": {
          "base_uri": "https://localhost:8080/",
          "height": 300
        },
        "id": "lUNchnoc4DLv",
        "outputId": "d6a17eb9-5914-4545-9e01-595fcb00c9bf"
      },
      "execution_count": 5,
      "outputs": [
        {
          "output_type": "execute_result",
          "data": {
            "text/plain": [
              "       math score  reading score  writing score\n",
              "count  1000.00000    1000.000000    1000.000000\n",
              "mean     67.04700      69.536000      68.259000\n",
              "std      14.82385      14.643946      15.414523\n",
              "min      19.00000      20.000000      22.000000\n",
              "25%      58.00000      60.000000      58.000000\n",
              "50%      68.00000      70.000000      69.000000\n",
              "75%      77.00000      80.000000      79.000000\n",
              "max     100.00000     100.000000     100.000000"
            ],
            "text/html": [
              "\n",
              "  <div id=\"df-db0ef802-736a-4e7c-95d8-a2c62b83c22e\">\n",
              "    <div class=\"colab-df-container\">\n",
              "      <div>\n",
              "<style scoped>\n",
              "    .dataframe tbody tr th:only-of-type {\n",
              "        vertical-align: middle;\n",
              "    }\n",
              "\n",
              "    .dataframe tbody tr th {\n",
              "        vertical-align: top;\n",
              "    }\n",
              "\n",
              "    .dataframe thead th {\n",
              "        text-align: right;\n",
              "    }\n",
              "</style>\n",
              "<table border=\"1\" class=\"dataframe\">\n",
              "  <thead>\n",
              "    <tr style=\"text-align: right;\">\n",
              "      <th></th>\n",
              "      <th>math score</th>\n",
              "      <th>reading score</th>\n",
              "      <th>writing score</th>\n",
              "    </tr>\n",
              "  </thead>\n",
              "  <tbody>\n",
              "    <tr>\n",
              "      <th>count</th>\n",
              "      <td>1000.00000</td>\n",
              "      <td>1000.000000</td>\n",
              "      <td>1000.000000</td>\n",
              "    </tr>\n",
              "    <tr>\n",
              "      <th>mean</th>\n",
              "      <td>67.04700</td>\n",
              "      <td>69.536000</td>\n",
              "      <td>68.259000</td>\n",
              "    </tr>\n",
              "    <tr>\n",
              "      <th>std</th>\n",
              "      <td>14.82385</td>\n",
              "      <td>14.643946</td>\n",
              "      <td>15.414523</td>\n",
              "    </tr>\n",
              "    <tr>\n",
              "      <th>min</th>\n",
              "      <td>19.00000</td>\n",
              "      <td>20.000000</td>\n",
              "      <td>22.000000</td>\n",
              "    </tr>\n",
              "    <tr>\n",
              "      <th>25%</th>\n",
              "      <td>58.00000</td>\n",
              "      <td>60.000000</td>\n",
              "      <td>58.000000</td>\n",
              "    </tr>\n",
              "    <tr>\n",
              "      <th>50%</th>\n",
              "      <td>68.00000</td>\n",
              "      <td>70.000000</td>\n",
              "      <td>69.000000</td>\n",
              "    </tr>\n",
              "    <tr>\n",
              "      <th>75%</th>\n",
              "      <td>77.00000</td>\n",
              "      <td>80.000000</td>\n",
              "      <td>79.000000</td>\n",
              "    </tr>\n",
              "    <tr>\n",
              "      <th>max</th>\n",
              "      <td>100.00000</td>\n",
              "      <td>100.000000</td>\n",
              "      <td>100.000000</td>\n",
              "    </tr>\n",
              "  </tbody>\n",
              "</table>\n",
              "</div>\n",
              "      <button class=\"colab-df-convert\" onclick=\"convertToInteractive('df-db0ef802-736a-4e7c-95d8-a2c62b83c22e')\"\n",
              "              title=\"Convert this dataframe to an interactive table.\"\n",
              "              style=\"display:none;\">\n",
              "        \n",
              "  <svg xmlns=\"http://www.w3.org/2000/svg\" height=\"24px\"viewBox=\"0 0 24 24\"\n",
              "       width=\"24px\">\n",
              "    <path d=\"M0 0h24v24H0V0z\" fill=\"none\"/>\n",
              "    <path d=\"M18.56 5.44l.94 2.06.94-2.06 2.06-.94-2.06-.94-.94-2.06-.94 2.06-2.06.94zm-11 1L8.5 8.5l.94-2.06 2.06-.94-2.06-.94L8.5 2.5l-.94 2.06-2.06.94zm10 10l.94 2.06.94-2.06 2.06-.94-2.06-.94-.94-2.06-.94 2.06-2.06.94z\"/><path d=\"M17.41 7.96l-1.37-1.37c-.4-.4-.92-.59-1.43-.59-.52 0-1.04.2-1.43.59L10.3 9.45l-7.72 7.72c-.78.78-.78 2.05 0 2.83L4 21.41c.39.39.9.59 1.41.59.51 0 1.02-.2 1.41-.59l7.78-7.78 2.81-2.81c.8-.78.8-2.07 0-2.86zM5.41 20L4 18.59l7.72-7.72 1.47 1.35L5.41 20z\"/>\n",
              "  </svg>\n",
              "      </button>\n",
              "      \n",
              "  <style>\n",
              "    .colab-df-container {\n",
              "      display:flex;\n",
              "      flex-wrap:wrap;\n",
              "      gap: 12px;\n",
              "    }\n",
              "\n",
              "    .colab-df-convert {\n",
              "      background-color: #E8F0FE;\n",
              "      border: none;\n",
              "      border-radius: 50%;\n",
              "      cursor: pointer;\n",
              "      display: none;\n",
              "      fill: #1967D2;\n",
              "      height: 32px;\n",
              "      padding: 0 0 0 0;\n",
              "      width: 32px;\n",
              "    }\n",
              "\n",
              "    .colab-df-convert:hover {\n",
              "      background-color: #E2EBFA;\n",
              "      box-shadow: 0px 1px 2px rgba(60, 64, 67, 0.3), 0px 1px 3px 1px rgba(60, 64, 67, 0.15);\n",
              "      fill: #174EA6;\n",
              "    }\n",
              "\n",
              "    [theme=dark] .colab-df-convert {\n",
              "      background-color: #3B4455;\n",
              "      fill: #D2E3FC;\n",
              "    }\n",
              "\n",
              "    [theme=dark] .colab-df-convert:hover {\n",
              "      background-color: #434B5C;\n",
              "      box-shadow: 0px 1px 3px 1px rgba(0, 0, 0, 0.15);\n",
              "      filter: drop-shadow(0px 1px 2px rgba(0, 0, 0, 0.3));\n",
              "      fill: #FFFFFF;\n",
              "    }\n",
              "  </style>\n",
              "\n",
              "      <script>\n",
              "        const buttonEl =\n",
              "          document.querySelector('#df-db0ef802-736a-4e7c-95d8-a2c62b83c22e button.colab-df-convert');\n",
              "        buttonEl.style.display =\n",
              "          google.colab.kernel.accessAllowed ? 'block' : 'none';\n",
              "\n",
              "        async function convertToInteractive(key) {\n",
              "          const element = document.querySelector('#df-db0ef802-736a-4e7c-95d8-a2c62b83c22e');\n",
              "          const dataTable =\n",
              "            await google.colab.kernel.invokeFunction('convertToInteractive',\n",
              "                                                     [key], {});\n",
              "          if (!dataTable) return;\n",
              "\n",
              "          const docLinkHtml = 'Like what you see? Visit the ' +\n",
              "            '<a target=\"_blank\" href=https://colab.research.google.com/notebooks/data_table.ipynb>data table notebook</a>'\n",
              "            + ' to learn more about interactive tables.';\n",
              "          element.innerHTML = '';\n",
              "          dataTable['output_type'] = 'display_data';\n",
              "          await google.colab.output.renderOutput(dataTable, element);\n",
              "          const docLink = document.createElement('div');\n",
              "          docLink.innerHTML = docLinkHtml;\n",
              "          element.appendChild(docLink);\n",
              "        }\n",
              "      </script>\n",
              "    </div>\n",
              "  </div>\n",
              "  "
            ]
          },
          "metadata": {},
          "execution_count": 5
        }
      ]
    },
    {
      "cell_type": "code",
      "source": [
        "###data types\n",
        "df.dtypes"
      ],
      "metadata": {
        "colab": {
          "base_uri": "https://localhost:8080/"
        },
        "id": "Wk3L0FnO42rX",
        "outputId": "96c7b1aa-e00b-427d-d7db-da1a3c77e4ac"
      },
      "execution_count": 6,
      "outputs": [
        {
          "output_type": "execute_result",
          "data": {
            "text/plain": [
              "gender                         object\n",
              "race/ethnicity                 object\n",
              "parental level of education    object\n",
              "lunch                          object\n",
              "test preparation course        object\n",
              "math score                      int64\n",
              "reading score                   int64\n",
              "writing score                   int64\n",
              "dtype: object"
            ]
          },
          "metadata": {},
          "execution_count": 6
        }
      ]
    },
    {
      "cell_type": "code",
      "source": [
        "### check if there are still null values in the column\n",
        "df.isnull().sum()"
      ],
      "metadata": {
        "colab": {
          "base_uri": "https://localhost:8080/"
        },
        "id": "IjEm_3tDZSXx",
        "outputId": "ccfc6b8f-47c6-4127-8854-c4b61abeb1fb"
      },
      "execution_count": 7,
      "outputs": [
        {
          "output_type": "execute_result",
          "data": {
            "text/plain": [
              "gender                         0\n",
              "race/ethnicity                 0\n",
              "parental level of education    0\n",
              "lunch                          0\n",
              "test preparation course        0\n",
              "math score                     0\n",
              "reading score                  0\n",
              "writing score                  0\n",
              "dtype: int64"
            ]
          },
          "metadata": {},
          "execution_count": 7
        }
      ]
    },
    {
      "cell_type": "code",
      "source": [
        "### check for duplicates\n",
        "df.duplicated().sum()"
      ],
      "metadata": {
        "colab": {
          "base_uri": "https://localhost:8080/"
        },
        "id": "WkYm9XtE5FXY",
        "outputId": "b07210d3-d7f4-4faa-8be5-e9789c3888e9"
      },
      "execution_count": 8,
      "outputs": [
        {
          "output_type": "execute_result",
          "data": {
            "text/plain": [
              "2"
            ]
          },
          "metadata": {},
          "execution_count": 8
        }
      ]
    },
    {
      "cell_type": "code",
      "source": [
        "df = df.drop_duplicates(keep='first')\n",
        "df.info()"
      ],
      "metadata": {
        "colab": {
          "base_uri": "https://localhost:8080/"
        },
        "id": "6YZxkglG5Vbu",
        "outputId": "20406108-d3a2-412d-dc59-ee042e12ee96"
      },
      "execution_count": 9,
      "outputs": [
        {
          "output_type": "stream",
          "name": "stdout",
          "text": [
            "<class 'pandas.core.frame.DataFrame'>\n",
            "Int64Index: 998 entries, 0 to 999\n",
            "Data columns (total 8 columns):\n",
            " #   Column                       Non-Null Count  Dtype \n",
            "---  ------                       --------------  ----- \n",
            " 0   gender                       998 non-null    object\n",
            " 1   race/ethnicity               998 non-null    object\n",
            " 2   parental level of education  998 non-null    object\n",
            " 3   lunch                        998 non-null    object\n",
            " 4   test preparation course      998 non-null    object\n",
            " 5   math score                   998 non-null    int64 \n",
            " 6   reading score                998 non-null    int64 \n",
            " 7   writing score                998 non-null    int64 \n",
            "dtypes: int64(3), object(5)\n",
            "memory usage: 70.2+ KB\n"
          ]
        }
      ]
    },
    {
      "cell_type": "code",
      "source": [
        "### check for inconsistencies in the categorical columns  from the dataset (source: learn platform, discussion, google colab notebook shared to the class)\n",
        "categorical = df.select_dtypes(include =['object'])\n",
        "cat_names = categorical.columns\n",
        "for column in cat_names:\n",
        "  print(df[column].unique())"
      ],
      "metadata": {
        "colab": {
          "base_uri": "https://localhost:8080/"
        },
        "id": "QTJBFuMQ04R2",
        "outputId": "c472b00e-239d-40e0-93e0-21db165fd23a"
      },
      "execution_count": 10,
      "outputs": [
        {
          "output_type": "stream",
          "name": "stdout",
          "text": [
            "['female' 'male']\n",
            "['group A' 'group B' 'group D' 'group E' 'group C']\n",
            "['some high school' \"master's degree\" 'high school' 'some college'\n",
            " \"bachelor's degree\" \"associate's degree\"]\n",
            "['standard' 'free/reduced']\n",
            "['none' 'completed']\n"
          ]
        }
      ]
    },
    {
      "cell_type": "code",
      "source": [
        "# get column names\n",
        "column_names = df.columns\n",
        "\n",
        "# for each attributes (columns), print value counts\n",
        "for column_name in  column_names:\n",
        "    print(df[column_name].value_counts())"
      ],
      "metadata": {
        "colab": {
          "base_uri": "https://localhost:8080/"
        },
        "id": "oH3efAt8DmC5",
        "outputId": "af144381-18f2-4bcf-d0d7-d97a5cad3c7d"
      },
      "execution_count": 11,
      "outputs": [
        {
          "output_type": "stream",
          "name": "stdout",
          "text": [
            "male      526\n",
            "female    472\n",
            "Name: gender, dtype: int64\n",
            "group C    302\n",
            "group D    268\n",
            "group B    205\n",
            "group E    147\n",
            "group A     76\n",
            "Name: race/ethnicity, dtype: int64\n",
            "some college          241\n",
            "associate's degree    221\n",
            "high school           191\n",
            "some high school      159\n",
            "bachelor's degree     114\n",
            "master's degree        72\n",
            "Name: parental level of education, dtype: int64\n",
            "standard        644\n",
            "free/reduced    354\n",
            "Name: lunch, dtype: int64\n",
            "none         652\n",
            "completed    346\n",
            "Name: test preparation course, dtype: int64\n",
            "72    35\n",
            "65    31\n",
            "64    30\n",
            "73    29\n",
            "70    28\n",
            "      ..\n",
            "38     1\n",
            "30     1\n",
            "25     1\n",
            "31     1\n",
            "28     1\n",
            "Name: math score, Length: 75, dtype: int64\n",
            "68    36\n",
            "64    33\n",
            "79    32\n",
            "69    29\n",
            "83    28\n",
            "      ..\n",
            "32     1\n",
            "29     1\n",
            "36     1\n",
            "20     1\n",
            "25     1\n",
            "Name: reading score, Length: 72, dtype: int64\n",
            "71    34\n",
            "76    31\n",
            "63    28\n",
            "64    27\n",
            "61    27\n",
            "      ..\n",
            "28     1\n",
            "31     1\n",
            "32     1\n",
            "24     1\n",
            "30     1\n",
            "Name: writing score, Length: 76, dtype: int64\n"
          ]
        }
      ]
    },
    {
      "cell_type": "code",
      "source": [
        "### Convert the string names of the parental level of education to numeric values.\n",
        "df['parental level of education'] = df['parental level of education'].replace ({'some high school': 0, 'high school': 1, 'some college': 2, \"associate's degree\": 3, \"bachelor's degree\": 4, \"master's degree\": 5})"
      ],
      "metadata": {
        "id": "fppdwE1tBPgU"
      },
      "execution_count": 12,
      "outputs": []
    },
    {
      "cell_type": "code",
      "source": [
        "#check teh relation of the parental level of education to teh success of the applicants admission \n",
        "X = df.drop(columns = 'parental level of education')\n",
        "y = df['parental level of education']"
      ],
      "metadata": {
        "id": "vkUb5yXC7-ST"
      },
      "execution_count": 13,
      "outputs": []
    },
    {
      "cell_type": "code",
      "source": [
        "X.head()"
      ],
      "metadata": {
        "colab": {
          "base_uri": "https://localhost:8080/",
          "height": 206
        },
        "id": "9jP8BiTt8Vvy",
        "outputId": "e0f4992a-a2e9-4c16-b7a4-67b40285c253"
      },
      "execution_count": 14,
      "outputs": [
        {
          "output_type": "execute_result",
          "data": {
            "text/plain": [
              "   gender race/ethnicity         lunch test preparation course  math score  \\\n",
              "0  female        group A      standard                    none          35   \n",
              "1    male        group A  free/reduced                    none          72   \n",
              "2    male        group A  free/reduced                    none          79   \n",
              "3  female        group B  free/reduced               completed          57   \n",
              "4    male        group B  free/reduced                    none          51   \n",
              "\n",
              "   reading score  writing score  \n",
              "0             47             42  \n",
              "1             71             66  \n",
              "2             79             71  \n",
              "3             70             69  \n",
              "4             44             39  "
            ],
            "text/html": [
              "\n",
              "  <div id=\"df-68e29cd4-5a65-477b-ba4b-53798be9dd1d\">\n",
              "    <div class=\"colab-df-container\">\n",
              "      <div>\n",
              "<style scoped>\n",
              "    .dataframe tbody tr th:only-of-type {\n",
              "        vertical-align: middle;\n",
              "    }\n",
              "\n",
              "    .dataframe tbody tr th {\n",
              "        vertical-align: top;\n",
              "    }\n",
              "\n",
              "    .dataframe thead th {\n",
              "        text-align: right;\n",
              "    }\n",
              "</style>\n",
              "<table border=\"1\" class=\"dataframe\">\n",
              "  <thead>\n",
              "    <tr style=\"text-align: right;\">\n",
              "      <th></th>\n",
              "      <th>gender</th>\n",
              "      <th>race/ethnicity</th>\n",
              "      <th>lunch</th>\n",
              "      <th>test preparation course</th>\n",
              "      <th>math score</th>\n",
              "      <th>reading score</th>\n",
              "      <th>writing score</th>\n",
              "    </tr>\n",
              "  </thead>\n",
              "  <tbody>\n",
              "    <tr>\n",
              "      <th>0</th>\n",
              "      <td>female</td>\n",
              "      <td>group A</td>\n",
              "      <td>standard</td>\n",
              "      <td>none</td>\n",
              "      <td>35</td>\n",
              "      <td>47</td>\n",
              "      <td>42</td>\n",
              "    </tr>\n",
              "    <tr>\n",
              "      <th>1</th>\n",
              "      <td>male</td>\n",
              "      <td>group A</td>\n",
              "      <td>free/reduced</td>\n",
              "      <td>none</td>\n",
              "      <td>72</td>\n",
              "      <td>71</td>\n",
              "      <td>66</td>\n",
              "    </tr>\n",
              "    <tr>\n",
              "      <th>2</th>\n",
              "      <td>male</td>\n",
              "      <td>group A</td>\n",
              "      <td>free/reduced</td>\n",
              "      <td>none</td>\n",
              "      <td>79</td>\n",
              "      <td>79</td>\n",
              "      <td>71</td>\n",
              "    </tr>\n",
              "    <tr>\n",
              "      <th>3</th>\n",
              "      <td>female</td>\n",
              "      <td>group B</td>\n",
              "      <td>free/reduced</td>\n",
              "      <td>completed</td>\n",
              "      <td>57</td>\n",
              "      <td>70</td>\n",
              "      <td>69</td>\n",
              "    </tr>\n",
              "    <tr>\n",
              "      <th>4</th>\n",
              "      <td>male</td>\n",
              "      <td>group B</td>\n",
              "      <td>free/reduced</td>\n",
              "      <td>none</td>\n",
              "      <td>51</td>\n",
              "      <td>44</td>\n",
              "      <td>39</td>\n",
              "    </tr>\n",
              "  </tbody>\n",
              "</table>\n",
              "</div>\n",
              "      <button class=\"colab-df-convert\" onclick=\"convertToInteractive('df-68e29cd4-5a65-477b-ba4b-53798be9dd1d')\"\n",
              "              title=\"Convert this dataframe to an interactive table.\"\n",
              "              style=\"display:none;\">\n",
              "        \n",
              "  <svg xmlns=\"http://www.w3.org/2000/svg\" height=\"24px\"viewBox=\"0 0 24 24\"\n",
              "       width=\"24px\">\n",
              "    <path d=\"M0 0h24v24H0V0z\" fill=\"none\"/>\n",
              "    <path d=\"M18.56 5.44l.94 2.06.94-2.06 2.06-.94-2.06-.94-.94-2.06-.94 2.06-2.06.94zm-11 1L8.5 8.5l.94-2.06 2.06-.94-2.06-.94L8.5 2.5l-.94 2.06-2.06.94zm10 10l.94 2.06.94-2.06 2.06-.94-2.06-.94-.94-2.06-.94 2.06-2.06.94z\"/><path d=\"M17.41 7.96l-1.37-1.37c-.4-.4-.92-.59-1.43-.59-.52 0-1.04.2-1.43.59L10.3 9.45l-7.72 7.72c-.78.78-.78 2.05 0 2.83L4 21.41c.39.39.9.59 1.41.59.51 0 1.02-.2 1.41-.59l7.78-7.78 2.81-2.81c.8-.78.8-2.07 0-2.86zM5.41 20L4 18.59l7.72-7.72 1.47 1.35L5.41 20z\"/>\n",
              "  </svg>\n",
              "      </button>\n",
              "      \n",
              "  <style>\n",
              "    .colab-df-container {\n",
              "      display:flex;\n",
              "      flex-wrap:wrap;\n",
              "      gap: 12px;\n",
              "    }\n",
              "\n",
              "    .colab-df-convert {\n",
              "      background-color: #E8F0FE;\n",
              "      border: none;\n",
              "      border-radius: 50%;\n",
              "      cursor: pointer;\n",
              "      display: none;\n",
              "      fill: #1967D2;\n",
              "      height: 32px;\n",
              "      padding: 0 0 0 0;\n",
              "      width: 32px;\n",
              "    }\n",
              "\n",
              "    .colab-df-convert:hover {\n",
              "      background-color: #E2EBFA;\n",
              "      box-shadow: 0px 1px 2px rgba(60, 64, 67, 0.3), 0px 1px 3px 1px rgba(60, 64, 67, 0.15);\n",
              "      fill: #174EA6;\n",
              "    }\n",
              "\n",
              "    [theme=dark] .colab-df-convert {\n",
              "      background-color: #3B4455;\n",
              "      fill: #D2E3FC;\n",
              "    }\n",
              "\n",
              "    [theme=dark] .colab-df-convert:hover {\n",
              "      background-color: #434B5C;\n",
              "      box-shadow: 0px 1px 3px 1px rgba(0, 0, 0, 0.15);\n",
              "      filter: drop-shadow(0px 1px 2px rgba(0, 0, 0, 0.3));\n",
              "      fill: #FFFFFF;\n",
              "    }\n",
              "  </style>\n",
              "\n",
              "      <script>\n",
              "        const buttonEl =\n",
              "          document.querySelector('#df-68e29cd4-5a65-477b-ba4b-53798be9dd1d button.colab-df-convert');\n",
              "        buttonEl.style.display =\n",
              "          google.colab.kernel.accessAllowed ? 'block' : 'none';\n",
              "\n",
              "        async function convertToInteractive(key) {\n",
              "          const element = document.querySelector('#df-68e29cd4-5a65-477b-ba4b-53798be9dd1d');\n",
              "          const dataTable =\n",
              "            await google.colab.kernel.invokeFunction('convertToInteractive',\n",
              "                                                     [key], {});\n",
              "          if (!dataTable) return;\n",
              "\n",
              "          const docLinkHtml = 'Like what you see? Visit the ' +\n",
              "            '<a target=\"_blank\" href=https://colab.research.google.com/notebooks/data_table.ipynb>data table notebook</a>'\n",
              "            + ' to learn more about interactive tables.';\n",
              "          element.innerHTML = '';\n",
              "          dataTable['output_type'] = 'display_data';\n",
              "          await google.colab.output.renderOutput(dataTable, element);\n",
              "          const docLink = document.createElement('div');\n",
              "          docLink.innerHTML = docLinkHtml;\n",
              "          element.appendChild(docLink);\n",
              "        }\n",
              "      </script>\n",
              "    </div>\n",
              "  </div>\n",
              "  "
            ]
          },
          "metadata": {},
          "execution_count": 14
        }
      ]
    },
    {
      "cell_type": "code",
      "source": [
        "y.head()"
      ],
      "metadata": {
        "colab": {
          "base_uri": "https://localhost:8080/"
        },
        "id": "ORGrPIUt8XLO",
        "outputId": "737515a7-1111-49a4-906e-984f6f2119bc"
      },
      "execution_count": 15,
      "outputs": [
        {
          "output_type": "execute_result",
          "data": {
            "text/plain": [
              "0    0\n",
              "1    5\n",
              "2    1\n",
              "3    0\n",
              "4    0\n",
              "Name: parental level of education, dtype: int64"
            ]
          },
          "metadata": {},
          "execution_count": 15
        }
      ]
    },
    {
      "cell_type": "code",
      "source": [
        "from pandas.core.dtypes.generic import create_pandas_abc_type\n",
        "### transform categorical values into numeric\n",
        "from sklearn.compose import make_column_selector\n",
        "cat_sel = make_column_selector(dtype_include='object')\n",
        "cat_df = X[cat_sel(X)]\n",
        "for col_name in cat_df.columns:\n",
        "    print(col_name)\n",
        "### identify the unique values from that column\n",
        "    values = df[col_name].unique()\n",
        "### initialize the dictionary\n",
        "    col_dict = dict()\n",
        "    for index, value in enumerate(values):\n",
        "        col_dict[value] = index\n",
        "\n",
        "### print the col_dict and replace categorical values in the identified columns\n",
        "    X[col_name].replace(col_dict, inplace=True)\n",
        "\n",
        "X.head()"
      ],
      "metadata": {
        "colab": {
          "base_uri": "https://localhost:8080/",
          "height": 276
        },
        "id": "QrPxPIGw8Z5S",
        "outputId": "dbf03082-a043-4a48-a8c7-cbea5a2384de"
      },
      "execution_count": 16,
      "outputs": [
        {
          "output_type": "stream",
          "name": "stdout",
          "text": [
            "gender\n",
            "race/ethnicity\n",
            "lunch\n",
            "test preparation course\n"
          ]
        },
        {
          "output_type": "execute_result",
          "data": {
            "text/plain": [
              "   gender  race/ethnicity  lunch  test preparation course  math score  \\\n",
              "0       0               0      0                        0          35   \n",
              "1       1               0      1                        0          72   \n",
              "2       1               0      1                        0          79   \n",
              "3       0               1      1                        1          57   \n",
              "4       1               1      1                        0          51   \n",
              "\n",
              "   reading score  writing score  \n",
              "0             47             42  \n",
              "1             71             66  \n",
              "2             79             71  \n",
              "3             70             69  \n",
              "4             44             39  "
            ],
            "text/html": [
              "\n",
              "  <div id=\"df-a185bce0-5621-47ed-bc01-bcde3bd2d157\">\n",
              "    <div class=\"colab-df-container\">\n",
              "      <div>\n",
              "<style scoped>\n",
              "    .dataframe tbody tr th:only-of-type {\n",
              "        vertical-align: middle;\n",
              "    }\n",
              "\n",
              "    .dataframe tbody tr th {\n",
              "        vertical-align: top;\n",
              "    }\n",
              "\n",
              "    .dataframe thead th {\n",
              "        text-align: right;\n",
              "    }\n",
              "</style>\n",
              "<table border=\"1\" class=\"dataframe\">\n",
              "  <thead>\n",
              "    <tr style=\"text-align: right;\">\n",
              "      <th></th>\n",
              "      <th>gender</th>\n",
              "      <th>race/ethnicity</th>\n",
              "      <th>lunch</th>\n",
              "      <th>test preparation course</th>\n",
              "      <th>math score</th>\n",
              "      <th>reading score</th>\n",
              "      <th>writing score</th>\n",
              "    </tr>\n",
              "  </thead>\n",
              "  <tbody>\n",
              "    <tr>\n",
              "      <th>0</th>\n",
              "      <td>0</td>\n",
              "      <td>0</td>\n",
              "      <td>0</td>\n",
              "      <td>0</td>\n",
              "      <td>35</td>\n",
              "      <td>47</td>\n",
              "      <td>42</td>\n",
              "    </tr>\n",
              "    <tr>\n",
              "      <th>1</th>\n",
              "      <td>1</td>\n",
              "      <td>0</td>\n",
              "      <td>1</td>\n",
              "      <td>0</td>\n",
              "      <td>72</td>\n",
              "      <td>71</td>\n",
              "      <td>66</td>\n",
              "    </tr>\n",
              "    <tr>\n",
              "      <th>2</th>\n",
              "      <td>1</td>\n",
              "      <td>0</td>\n",
              "      <td>1</td>\n",
              "      <td>0</td>\n",
              "      <td>79</td>\n",
              "      <td>79</td>\n",
              "      <td>71</td>\n",
              "    </tr>\n",
              "    <tr>\n",
              "      <th>3</th>\n",
              "      <td>0</td>\n",
              "      <td>1</td>\n",
              "      <td>1</td>\n",
              "      <td>1</td>\n",
              "      <td>57</td>\n",
              "      <td>70</td>\n",
              "      <td>69</td>\n",
              "    </tr>\n",
              "    <tr>\n",
              "      <th>4</th>\n",
              "      <td>1</td>\n",
              "      <td>1</td>\n",
              "      <td>1</td>\n",
              "      <td>0</td>\n",
              "      <td>51</td>\n",
              "      <td>44</td>\n",
              "      <td>39</td>\n",
              "    </tr>\n",
              "  </tbody>\n",
              "</table>\n",
              "</div>\n",
              "      <button class=\"colab-df-convert\" onclick=\"convertToInteractive('df-a185bce0-5621-47ed-bc01-bcde3bd2d157')\"\n",
              "              title=\"Convert this dataframe to an interactive table.\"\n",
              "              style=\"display:none;\">\n",
              "        \n",
              "  <svg xmlns=\"http://www.w3.org/2000/svg\" height=\"24px\"viewBox=\"0 0 24 24\"\n",
              "       width=\"24px\">\n",
              "    <path d=\"M0 0h24v24H0V0z\" fill=\"none\"/>\n",
              "    <path d=\"M18.56 5.44l.94 2.06.94-2.06 2.06-.94-2.06-.94-.94-2.06-.94 2.06-2.06.94zm-11 1L8.5 8.5l.94-2.06 2.06-.94-2.06-.94L8.5 2.5l-.94 2.06-2.06.94zm10 10l.94 2.06.94-2.06 2.06-.94-2.06-.94-.94-2.06-.94 2.06-2.06.94z\"/><path d=\"M17.41 7.96l-1.37-1.37c-.4-.4-.92-.59-1.43-.59-.52 0-1.04.2-1.43.59L10.3 9.45l-7.72 7.72c-.78.78-.78 2.05 0 2.83L4 21.41c.39.39.9.59 1.41.59.51 0 1.02-.2 1.41-.59l7.78-7.78 2.81-2.81c.8-.78.8-2.07 0-2.86zM5.41 20L4 18.59l7.72-7.72 1.47 1.35L5.41 20z\"/>\n",
              "  </svg>\n",
              "      </button>\n",
              "      \n",
              "  <style>\n",
              "    .colab-df-container {\n",
              "      display:flex;\n",
              "      flex-wrap:wrap;\n",
              "      gap: 12px;\n",
              "    }\n",
              "\n",
              "    .colab-df-convert {\n",
              "      background-color: #E8F0FE;\n",
              "      border: none;\n",
              "      border-radius: 50%;\n",
              "      cursor: pointer;\n",
              "      display: none;\n",
              "      fill: #1967D2;\n",
              "      height: 32px;\n",
              "      padding: 0 0 0 0;\n",
              "      width: 32px;\n",
              "    }\n",
              "\n",
              "    .colab-df-convert:hover {\n",
              "      background-color: #E2EBFA;\n",
              "      box-shadow: 0px 1px 2px rgba(60, 64, 67, 0.3), 0px 1px 3px 1px rgba(60, 64, 67, 0.15);\n",
              "      fill: #174EA6;\n",
              "    }\n",
              "\n",
              "    [theme=dark] .colab-df-convert {\n",
              "      background-color: #3B4455;\n",
              "      fill: #D2E3FC;\n",
              "    }\n",
              "\n",
              "    [theme=dark] .colab-df-convert:hover {\n",
              "      background-color: #434B5C;\n",
              "      box-shadow: 0px 1px 3px 1px rgba(0, 0, 0, 0.15);\n",
              "      filter: drop-shadow(0px 1px 2px rgba(0, 0, 0, 0.3));\n",
              "      fill: #FFFFFF;\n",
              "    }\n",
              "  </style>\n",
              "\n",
              "      <script>\n",
              "        const buttonEl =\n",
              "          document.querySelector('#df-a185bce0-5621-47ed-bc01-bcde3bd2d157 button.colab-df-convert');\n",
              "        buttonEl.style.display =\n",
              "          google.colab.kernel.accessAllowed ? 'block' : 'none';\n",
              "\n",
              "        async function convertToInteractive(key) {\n",
              "          const element = document.querySelector('#df-a185bce0-5621-47ed-bc01-bcde3bd2d157');\n",
              "          const dataTable =\n",
              "            await google.colab.kernel.invokeFunction('convertToInteractive',\n",
              "                                                     [key], {});\n",
              "          if (!dataTable) return;\n",
              "\n",
              "          const docLinkHtml = 'Like what you see? Visit the ' +\n",
              "            '<a target=\"_blank\" href=https://colab.research.google.com/notebooks/data_table.ipynb>data table notebook</a>'\n",
              "            + ' to learn more about interactive tables.';\n",
              "          element.innerHTML = '';\n",
              "          dataTable['output_type'] = 'display_data';\n",
              "          await google.colab.output.renderOutput(dataTable, element);\n",
              "          const docLink = document.createElement('div');\n",
              "          docLink.innerHTML = docLinkHtml;\n",
              "          element.appendChild(docLink);\n",
              "        }\n",
              "      </script>\n",
              "    </div>\n",
              "  </div>\n",
              "  "
            ]
          },
          "metadata": {},
          "execution_count": 16
        }
      ]
    },
    {
      "cell_type": "code",
      "source": [
        "X.info()"
      ],
      "metadata": {
        "colab": {
          "base_uri": "https://localhost:8080/"
        },
        "id": "9wtLTl_J8jqp",
        "outputId": "56d2fe1f-df69-4156-ccc6-868a349c40b3"
      },
      "execution_count": 17,
      "outputs": [
        {
          "output_type": "stream",
          "name": "stdout",
          "text": [
            "<class 'pandas.core.frame.DataFrame'>\n",
            "Int64Index: 998 entries, 0 to 999\n",
            "Data columns (total 7 columns):\n",
            " #   Column                   Non-Null Count  Dtype\n",
            "---  ------                   --------------  -----\n",
            " 0   gender                   998 non-null    int64\n",
            " 1   race/ethnicity           998 non-null    int64\n",
            " 2   lunch                    998 non-null    int64\n",
            " 3   test preparation course  998 non-null    int64\n",
            " 4   math score               998 non-null    int64\n",
            " 5   reading score            998 non-null    int64\n",
            " 6   writing score            998 non-null    int64\n",
            "dtypes: int64(7)\n",
            "memory usage: 62.4 KB\n"
          ]
        }
      ]
    },
    {
      "cell_type": "code",
      "source": [
        "### separate numerical and categorical variables\n",
        "### categorical columns\n",
        "categ_column=[column for column in df.columns if df[column].dtype=='object']\n",
        "### numerical columns\n",
        "numeric_column=df.drop(categ_column,axis=1).columns\n",
        "### source (https://datascience.stackexchange.com/questions/98137/separate-numerical-and-categorical-variables)"
      ],
      "metadata": {
        "id": "erg_xh_I8m7a"
      },
      "execution_count": 18,
      "outputs": []
    },
    {
      "cell_type": "code",
      "source": [
        "### visualize data using count plot in categorical data\n",
        "### add filter warnings\n",
        "warnings.filterwarnings('ignore')\n",
        "for column in categ_column:\n",
        "    sns.countplot(df[column],hue=df['parental level of education'], palette=\"Set3\")\n",
        "    plt.figure(figsize=(5,8))\n",
        "    plt.show()"
      ],
      "metadata": {
        "colab": {
          "base_uri": "https://localhost:8080/",
          "height": 1000
        },
        "id": "Ia4u7v0D8wvR",
        "outputId": "28ad763e-5840-421b-9343-62b5a311edc5"
      },
      "execution_count": 19,
      "outputs": [
        {
          "output_type": "display_data",
          "data": {
            "text/plain": [
              "<Figure size 432x288 with 1 Axes>"
            ],
            "image/png": "[encoded data removed]"
          },
          "metadata": {
            "needs_background": "light"
          }
        },
        {
          "output_type": "display_data",
          "data": {
            "text/plain": [
              "<Figure size 360x576 with 0 Axes>"
            ]
          },
          "metadata": {}
        },
        {
          "output_type": "display_data",
          "data": {
            "text/plain": [
              "<Figure size 432x288 with 1 Axes>"
            ],
            "image/png": "[encoded data removed]"
          },
          "metadata": {
            "needs_background": "light"
          }
        },
        {
          "output_type": "display_data",
          "data": {
            "text/plain": [
              "<Figure size 360x576 with 0 Axes>"
            ]
          },
          "metadata": {}
        },
        {
          "output_type": "display_data",
          "data": {
            "text/plain": [
              "<Figure size 432x288 with 1 Axes>"
            ],
            "image/png": "[encoded data removed]"
          },
          "metadata": {
            "needs_background": "light"
          }
        },
        {
          "output_type": "display_data",
          "data": {
            "text/plain": [
              "<Figure size 360x576 with 0 Axes>"
            ]
          },
          "metadata": {}
        },
        {
          "output_type": "display_data",
          "data": {
            "text/plain": [
              "<Figure size 432x288 with 1 Axes>"
            ],
            "image/png": "[encoded data removed]"
          },
          "metadata": {
            "needs_background": "light"
          }
        },
        {
          "output_type": "display_data",
          "data": {
            "text/plain": [
              "<Figure size 360x576 with 0 Axes>"
            ]
          },
          "metadata": {}
        }
      ]
    },
    {
      "cell_type": "code",
      "source": [
        "### data visualization using boxplot for the \"Age\" and \"match scorer\"\n",
        "### delete whitespace\n",
        "df['Gender'] = df['gender'].apply(lambda x: x.strip())\n",
        "male = df.loc[df['gender']=='male','math score'].values\n",
        "female = df.loc[df['gender']=='female','math score'].values\n",
        "### show the boxplot\n",
        "plt.boxplot([male, female], labels=['M', 'F']);"
      ],
      "metadata": {
        "colab": {
          "base_uri": "https://localhost:8080/",
          "height": 265
        },
        "id": "eAPq-YLe90IR",
        "outputId": "69b26a4f-479e-40e4-f96d-ed77d86922c6"
      },
      "execution_count": 20,
      "outputs": [
        {
          "output_type": "display_data",
          "data": {
            "text/plain": [
              "<Figure size 432x288 with 1 Axes>"
            ],
            "image/png": "[encoded data removed]"
          },
          "metadata": {
            "needs_background": "light"
          }
        }
      ]
    },
    {
      "cell_type": "code",
      "source": [
        "### data visualization using boxplot for the \"Age\" and \"reading score\"\n",
        "### delete whitespace\n",
        "df['Gender'] = df['gender'].apply(lambda x: x.strip())\n",
        "male = df.loc[df['gender']=='male','reading score'].values\n",
        "female = df.loc[df['gender']=='female','reading score'].values\n",
        "### show the boxplot\n",
        "plt.boxplot([male, female], labels=['M', 'F']);"
      ],
      "metadata": {
        "colab": {
          "base_uri": "https://localhost:8080/",
          "height": 265
        },
        "id": "wnXf_sO6-a_0",
        "outputId": "92c3c934-7975-48a9-ed9f-af20401d6dcb"
      },
      "execution_count": 21,
      "outputs": [
        {
          "output_type": "display_data",
          "data": {
            "text/plain": [
              "<Figure size 432x288 with 1 Axes>"
            ],
            "image/png": "[encoded data removed]"
          },
          "metadata": {
            "needs_background": "light"
          }
        }
      ]
    },
    {
      "cell_type": "code",
      "source": [
        "### data visualization using boxplot for the \"male\" and \"writing score\"\n",
        "### delete whitespace\n",
        "df['Gender'] = df['gender'].apply(lambda x: x.strip())\n",
        "male = df.loc[df['gender']=='male','writing score'].values\n",
        "female = df.loc[df['gender']=='female','writing score'].values\n",
        "### show the boxplot\n",
        "plt.boxplot([male, female], labels=['M', 'F']);"
      ],
      "metadata": {
        "colab": {
          "base_uri": "https://localhost:8080/",
          "height": 265
        },
        "id": "GK8wJzML-fB5",
        "outputId": "87381277-efd6-4bb4-aae5-4c0f4ad4f5e0"
      },
      "execution_count": 22,
      "outputs": [
        {
          "output_type": "display_data",
          "data": {
            "text/plain": [
              "<Figure size 432x288 with 1 Axes>"
            ],
            "image/png": "[encoded data removed]"
          },
          "metadata": {
            "needs_background": "light"
          }
        }
      ]
    },
    {
      "cell_type": "code",
      "source": [
        "# math score vs parental level of education \n",
        "\n",
        "print(cl(df['math score'].describe(), attrs = ['bold']))\n",
        "\n",
        "sb.distplot(df['math score'], \n",
        "            color = 'green')\n",
        "plt.title('Math score', \n",
        "          fontsize = 18)\n",
        "plt.xlabel('math score', \n",
        "           fontsize = 12)\n",
        "plt.ylabel('parental level of education', \n",
        "           fontsize = 12)\n",
        "plt.xticks(fontsize = 14)\n",
        "plt.yticks(fontsize = 14)\n",
        "\n",
        "plt.savefig('math score distribution.png')\n",
        "plt.show()"
      ],
      "metadata": {
        "colab": {
          "base_uri": "https://localhost:8080/",
          "height": 462
        },
        "id": "Usqv2HinCji-",
        "outputId": "a1561e30-74b5-478a-ed40-bdbcb8771533"
      },
      "execution_count": 23,
      "outputs": [
        {
          "output_type": "stream",
          "name": "stdout",
          "text": [
            "\u001b[1mcount    998.000000\n",
            "mean      67.056112\n",
            "std       14.811584\n",
            "min       19.000000\n",
            "25%       58.000000\n",
            "50%       68.000000\n",
            "75%       77.000000\n",
            "max      100.000000\n",
            "Name: math score, dtype: float64\u001b[0m\n"
          ]
        },
        {
          "output_type": "display_data",
          "data": {
            "text/plain": [
              "<Figure size 432x288 with 1 Axes>"
            ],
            "image/png": "[encoded data removed]"
          },
          "metadata": {
            "needs_background": "light"
          }
        }
      ]
    },
    {
      "cell_type": "code",
      "source": [
        "# reading score vs parental level of education \n",
        "\n",
        "print(cl(df['reading score'].describe(), attrs = ['bold']))\n",
        "\n",
        "sb.distplot(df['reading score'], \n",
        "            color = 'green')\n",
        "plt.title('Reading score', \n",
        "          fontsize = 18)\n",
        "plt.xlabel('reading score', \n",
        "           fontsize = 12)\n",
        "plt.ylabel('parental level of education', \n",
        "           fontsize = 12)\n",
        "plt.xticks(fontsize = 14)\n",
        "plt.yticks(fontsize = 14)\n",
        "\n",
        "plt.savefig('reading score distribution.png')\n",
        "plt.show()"
      ],
      "metadata": {
        "colab": {
          "base_uri": "https://localhost:8080/",
          "height": 462
        },
        "id": "2r5QmmrYEXxm",
        "outputId": "ae77d6e1-7f7e-4877-ba5f-0d79fa5acc11"
      },
      "execution_count": 24,
      "outputs": [
        {
          "output_type": "stream",
          "name": "stdout",
          "text": [
            "\u001b[1mcount    998.000000\n",
            "mean      69.535070\n",
            "std       14.638824\n",
            "min       20.000000\n",
            "25%       60.000000\n",
            "50%       70.000000\n",
            "75%       80.000000\n",
            "max      100.000000\n",
            "Name: reading score, dtype: float64\u001b[0m\n"
          ]
        },
        {
          "output_type": "display_data",
          "data": {
            "text/plain": [
              "<Figure size 432x288 with 1 Axes>"
            ],
            "image/png": "[encoded data removed]"
          },
          "metadata": {
            "needs_background": "light"
          }
        }
      ]
    },
    {
      "cell_type": "code",
      "source": [
        "# writing score vs parental level of education \n",
        "\n",
        "print(cl(df['writing score'].describe(), attrs = ['bold']))\n",
        "\n",
        "sb.distplot(df['writing score'], \n",
        "            color = 'green')\n",
        "plt.title('Writing score', \n",
        "          fontsize = 18)\n",
        "plt.xlabel('writing score', \n",
        "           fontsize = 16)\n",
        "plt.ylabel('parental level of education', \n",
        "           fontsize = 16)\n",
        "plt.xticks(fontsize = 14)\n",
        "plt.yticks(fontsize = 14)\n",
        "\n",
        "plt.savefig('writing score distribution.png')\n",
        "plt.show()"
      ],
      "metadata": {
        "colab": {
          "base_uri": "https://localhost:8080/",
          "height": 464
        },
        "id": "8yhiTNLvEvP5",
        "outputId": "82455a4c-343d-49d3-a491-93964087b7b9"
      },
      "execution_count": 25,
      "outputs": [
        {
          "output_type": "stream",
          "name": "stdout",
          "text": [
            "\u001b[1mcount    998.000000\n",
            "mean      68.258517\n",
            "std       15.418121\n",
            "min       22.000000\n",
            "25%       58.000000\n",
            "50%       69.000000\n",
            "75%       79.000000\n",
            "max      100.000000\n",
            "Name: writing score, dtype: float64\u001b[0m\n"
          ]
        },
        {
          "output_type": "display_data",
          "data": {
            "text/plain": [
              "<Figure size 432x288 with 1 Axes>"
            ],
            "image/png": "[encoded data removed]"
          },
          "metadata": {
            "needs_background": "light"
          }
        }
      ]
    },
    {
      "cell_type": "code",
      "source": [
        "corrmat = df.corr()\n",
        "plt.figure(figsize=(20,12))\n",
        "sns.heatmap(corrmat, annot=True, cmap='seismic')"
      ],
      "metadata": {
        "colab": {
          "base_uri": "https://localhost:8080/",
          "height": 721
        },
        "id": "5CTLc7cHCRjK",
        "outputId": "d2dcd45c-eb1b-4337-da0a-4f371df9aea2"
      },
      "execution_count": 26,
      "outputs": [
        {
          "output_type": "execute_result",
          "data": {
            "text/plain": [
              "<matplotlib.axes._subplots.AxesSubplot at 0x7ff4211d6d90>"
            ]
          },
          "metadata": {},
          "execution_count": 26
        },
        {
          "output_type": "display_data",
          "data": {
            "text/plain": [
              "<Figure size 1440x864 with 2 Axes>"
            ],
            "image/png": "[encoded data removed]"
          },
          "metadata": {
            "needs_background": "light"
          }
        }
      ]
    },
    {
      "cell_type": "code",
      "source": [
        "### split the dataset to training, test/validation set\n",
        "X_train, X_test, y_train, y_test = train_test_split(X, y, random_state=42, test_size=0.33)\n",
        "### I chose 42 for the random state since this is the dfault value in sklearn, test size is 30% \n",
        "### source (https://machinelearningmastery.com/train-test-split-for-evaluating-machine-learning-algorithms/)"
      ],
      "metadata": {
        "id": "415foKxN_KGs"
      },
      "execution_count": 27,
      "outputs": []
    },
    {
      "cell_type": "code",
      "source": [
        "#### Obtain descriptive statistics of your features\n",
        "X_train.describe().round(0)"
      ],
      "metadata": {
        "colab": {
          "base_uri": "https://localhost:8080/",
          "height": 300
        },
        "id": "NHRVZt0q3zWf",
        "outputId": "f315261f-07db-48ea-db77-0d0fe5c8824d"
      },
      "execution_count": 28,
      "outputs": [
        {
          "output_type": "execute_result",
          "data": {
            "text/plain": [
              "       gender  race/ethnicity  lunch  test preparation course  math score  \\\n",
              "count   668.0           668.0  668.0                    668.0       668.0   \n",
              "mean      1.0             2.0    0.0                      0.0        67.0   \n",
              "std       0.0             1.0    0.0                      0.0        15.0   \n",
              "min       0.0             0.0    0.0                      0.0        19.0   \n",
              "25%       0.0             1.0    0.0                      0.0        58.0   \n",
              "50%       1.0             2.0    0.0                      0.0        67.0   \n",
              "75%       1.0             4.0    1.0                      1.0        77.0   \n",
              "max       1.0             4.0    1.0                      1.0       100.0   \n",
              "\n",
              "       reading score  writing score  \n",
              "count          668.0          668.0  \n",
              "mean            70.0           68.0  \n",
              "std             15.0           16.0  \n",
              "min             25.0           23.0  \n",
              "25%             60.0           58.0  \n",
              "50%             70.0           69.0  \n",
              "75%             81.0           80.0  \n",
              "max            100.0          100.0  "
            ],
            "text/html": [
              "\n",
              "  <div id=\"df-9c24dc89-8f1f-462d-9f24-996654f7c340\">\n",
              "    <div class=\"colab-df-container\">\n",
              "      <div>\n",
              "<style scoped>\n",
              "    .dataframe tbody tr th:only-of-type {\n",
              "        vertical-align: middle;\n",
              "    }\n",
              "\n",
              "    .dataframe tbody tr th {\n",
              "        vertical-align: top;\n",
              "    }\n",
              "\n",
              "    .dataframe thead th {\n",
              "        text-align: right;\n",
              "    }\n",
              "</style>\n",
              "<table border=\"1\" class=\"dataframe\">\n",
              "  <thead>\n",
              "    <tr style=\"text-align: right;\">\n",
              "      <th></th>\n",
              "      <th>gender</th>\n",
              "      <th>race/ethnicity</th>\n",
              "      <th>lunch</th>\n",
              "      <th>test preparation course</th>\n",
              "      <th>math score</th>\n",
              "      <th>reading score</th>\n",
              "      <th>writing score</th>\n",
              "    </tr>\n",
              "  </thead>\n",
              "  <tbody>\n",
              "    <tr>\n",
              "      <th>count</th>\n",
              "      <td>668.0</td>\n",
              "      <td>668.0</td>\n",
              "      <td>668.0</td>\n",
              "      <td>668.0</td>\n",
              "      <td>668.0</td>\n",
              "      <td>668.0</td>\n",
              "      <td>668.0</td>\n",
              "    </tr>\n",
              "    <tr>\n",
              "      <th>mean</th>\n",
              "      <td>1.0</td>\n",
              "      <td>2.0</td>\n",
              "      <td>0.0</td>\n",
              "      <td>0.0</td>\n",
              "      <td>67.0</td>\n",
              "      <td>70.0</td>\n",
              "      <td>68.0</td>\n",
              "    </tr>\n",
              "    <tr>\n",
              "      <th>std</th>\n",
              "      <td>0.0</td>\n",
              "      <td>1.0</td>\n",
              "      <td>0.0</td>\n",
              "      <td>0.0</td>\n",
              "      <td>15.0</td>\n",
              "      <td>15.0</td>\n",
              "      <td>16.0</td>\n",
              "    </tr>\n",
              "    <tr>\n",
              "      <th>min</th>\n",
              "      <td>0.0</td>\n",
              "      <td>0.0</td>\n",
              "      <td>0.0</td>\n",
              "      <td>0.0</td>\n",
              "      <td>19.0</td>\n",
              "      <td>25.0</td>\n",
              "      <td>23.0</td>\n",
              "    </tr>\n",
              "    <tr>\n",
              "      <th>25%</th>\n",
              "      <td>0.0</td>\n",
              "      <td>1.0</td>\n",
              "      <td>0.0</td>\n",
              "      <td>0.0</td>\n",
              "      <td>58.0</td>\n",
              "      <td>60.0</td>\n",
              "      <td>58.0</td>\n",
              "    </tr>\n",
              "    <tr>\n",
              "      <th>50%</th>\n",
              "      <td>1.0</td>\n",
              "      <td>2.0</td>\n",
              "      <td>0.0</td>\n",
              "      <td>0.0</td>\n",
              "      <td>67.0</td>\n",
              "      <td>70.0</td>\n",
              "      <td>69.0</td>\n",
              "    </tr>\n",
              "    <tr>\n",
              "      <th>75%</th>\n",
              "      <td>1.0</td>\n",
              "      <td>4.0</td>\n",
              "      <td>1.0</td>\n",
              "      <td>1.0</td>\n",
              "      <td>77.0</td>\n",
              "      <td>81.0</td>\n",
              "      <td>80.0</td>\n",
              "    </tr>\n",
              "    <tr>\n",
              "      <th>max</th>\n",
              "      <td>1.0</td>\n",
              "      <td>4.0</td>\n",
              "      <td>1.0</td>\n",
              "      <td>1.0</td>\n",
              "      <td>100.0</td>\n",
              "      <td>100.0</td>\n",
              "      <td>100.0</td>\n",
              "    </tr>\n",
              "  </tbody>\n",
              "</table>\n",
              "</div>\n",
              "      <button class=\"colab-df-convert\" onclick=\"convertToInteractive('df-9c24dc89-8f1f-462d-9f24-996654f7c340')\"\n",
              "              title=\"Convert this dataframe to an interactive table.\"\n",
              "              style=\"display:none;\">\n",
              "        \n",
              "  <svg xmlns=\"http://www.w3.org/2000/svg\" height=\"24px\"viewBox=\"0 0 24 24\"\n",
              "       width=\"24px\">\n",
              "    <path d=\"M0 0h24v24H0V0z\" fill=\"none\"/>\n",
              "    <path d=\"M18.56 5.44l.94 2.06.94-2.06 2.06-.94-2.06-.94-.94-2.06-.94 2.06-2.06.94zm-11 1L8.5 8.5l.94-2.06 2.06-.94-2.06-.94L8.5 2.5l-.94 2.06-2.06.94zm10 10l.94 2.06.94-2.06 2.06-.94-2.06-.94-.94-2.06-.94 2.06-2.06.94z\"/><path d=\"M17.41 7.96l-1.37-1.37c-.4-.4-.92-.59-1.43-.59-.52 0-1.04.2-1.43.59L10.3 9.45l-7.72 7.72c-.78.78-.78 2.05 0 2.83L4 21.41c.39.39.9.59 1.41.59.51 0 1.02-.2 1.41-.59l7.78-7.78 2.81-2.81c.8-.78.8-2.07 0-2.86zM5.41 20L4 18.59l7.72-7.72 1.47 1.35L5.41 20z\"/>\n",
              "  </svg>\n",
              "      </button>\n",
              "      \n",
              "  <style>\n",
              "    .colab-df-container {\n",
              "      display:flex;\n",
              "      flex-wrap:wrap;\n",
              "      gap: 12px;\n",
              "    }\n",
              "\n",
              "    .colab-df-convert {\n",
              "      background-color: #E8F0FE;\n",
              "      border: none;\n",
              "      border-radius: 50%;\n",
              "      cursor: pointer;\n",
              "      display: none;\n",
              "      fill: #1967D2;\n",
              "      height: 32px;\n",
              "      padding: 0 0 0 0;\n",
              "      width: 32px;\n",
              "    }\n",
              "\n",
              "    .colab-df-convert:hover {\n",
              "      background-color: #E2EBFA;\n",
              "      box-shadow: 0px 1px 2px rgba(60, 64, 67, 0.3), 0px 1px 3px 1px rgba(60, 64, 67, 0.15);\n",
              "      fill: #174EA6;\n",
              "    }\n",
              "\n",
              "    [theme=dark] .colab-df-convert {\n",
              "      background-color: #3B4455;\n",
              "      fill: #D2E3FC;\n",
              "    }\n",
              "\n",
              "    [theme=dark] .colab-df-convert:hover {\n",
              "      background-color: #434B5C;\n",
              "      box-shadow: 0px 1px 3px 1px rgba(0, 0, 0, 0.15);\n",
              "      filter: drop-shadow(0px 1px 2px rgba(0, 0, 0, 0.3));\n",
              "      fill: #FFFFFF;\n",
              "    }\n",
              "  </style>\n",
              "\n",
              "      <script>\n",
              "        const buttonEl =\n",
              "          document.querySelector('#df-9c24dc89-8f1f-462d-9f24-996654f7c340 button.colab-df-convert');\n",
              "        buttonEl.style.display =\n",
              "          google.colab.kernel.accessAllowed ? 'block' : 'none';\n",
              "\n",
              "        async function convertToInteractive(key) {\n",
              "          const element = document.querySelector('#df-9c24dc89-8f1f-462d-9f24-996654f7c340');\n",
              "          const dataTable =\n",
              "            await google.colab.kernel.invokeFunction('convertToInteractive',\n",
              "                                                     [key], {});\n",
              "          if (!dataTable) return;\n",
              "\n",
              "          const docLinkHtml = 'Like what you see? Visit the ' +\n",
              "            '<a target=\"_blank\" href=https://colab.research.google.com/notebooks/data_table.ipynb>data table notebook</a>'\n",
              "            + ' to learn more about interactive tables.';\n",
              "          element.innerHTML = '';\n",
              "          dataTable['output_type'] = 'display_data';\n",
              "          await google.colab.output.renderOutput(dataTable, element);\n",
              "          const docLink = document.createElement('div');\n",
              "          docLink.innerHTML = docLinkHtml;\n",
              "          element.appendChild(docLink);\n",
              "        }\n",
              "      </script>\n",
              "    </div>\n",
              "  </div>\n",
              "  "
            ]
          },
          "metadata": {},
          "execution_count": 28
        }
      ]
    },
    {
      "cell_type": "code",
      "source": [
        "### check the lenght of the X_test\n",
        "len(X_test)"
      ],
      "metadata": {
        "colab": {
          "base_uri": "https://localhost:8080/"
        },
        "id": "Fq9Uqni1312H",
        "outputId": "8de4f8ce-4fcd-42ac-fd6c-4b1be18a7ae6"
      },
      "execution_count": 29,
      "outputs": [
        {
          "output_type": "execute_result",
          "data": {
            "text/plain": [
              "330"
            ]
          },
          "metadata": {},
          "execution_count": 29
        }
      ]
    },
    {
      "cell_type": "code",
      "source": [
        "### check the distribution of the training set\n",
        "y_train.value_counts()"
      ],
      "metadata": {
        "colab": {
          "base_uri": "https://localhost:8080/"
        },
        "id": "O1qiTqm736Eb",
        "outputId": "f5942fea-5de8-4e64-a790-a8fab861d7bc"
      },
      "execution_count": 30,
      "outputs": [
        {
          "output_type": "execute_result",
          "data": {
            "text/plain": [
              "2    152\n",
              "3    148\n",
              "1    128\n",
              "0    113\n",
              "4     78\n",
              "5     49\n",
              "Name: parental level of education, dtype: int64"
            ]
          },
          "metadata": {},
          "execution_count": 30
        }
      ]
    },
    {
      "cell_type": "code",
      "source": [
        "### check the distribution of the test set\n",
        "y_test.value_counts()"
      ],
      "metadata": {
        "colab": {
          "base_uri": "https://localhost:8080/"
        },
        "id": "ogkJ5FW9382H",
        "outputId": "628c8f96-1d74-4612-bd62-d0d2184a967a"
      },
      "execution_count": 31,
      "outputs": [
        {
          "output_type": "execute_result",
          "data": {
            "text/plain": [
              "2    89\n",
              "3    73\n",
              "1    63\n",
              "0    46\n",
              "4    36\n",
              "5    23\n",
              "Name: parental level of education, dtype: int64"
            ]
          },
          "metadata": {},
          "execution_count": 31
        }
      ]
    },
    {
      "cell_type": "code",
      "source": [
        "### indetify the selectors\n",
        "num_selector = make_column_selector(dtype_include = 'number')\n",
        "cat_selector = make_column_selector(dtype_include='object')"
      ],
      "metadata": {
        "id": "3nYUTsij4AKs"
      },
      "execution_count": 32,
      "outputs": []
    },
    {
      "cell_type": "code",
      "source": [
        "### define the imputers\n",
        "freq_imputer = SimpleImputer(strategy='most_frequent')\n",
        "mean_imputer = SimpleImputer(strategy = 'mean')\n",
        "### add Scaler\n",
        "scaler = StandardScaler()\n",
        "### OneHotEncod\n",
        "ohe = OneHotEncoder(handle_unknown = 'ignore', sparse = False)"
      ],
      "metadata": {
        "id": "AJzZAe-24DyA"
      },
      "execution_count": 33,
      "outputs": []
    },
    {
      "cell_type": "code",
      "source": [
        "### create pipeline for numerical categorical\n",
        "numeric_pipeline = make_pipeline(mean_imputer, scaler)\n",
        "numeric_pipeline"
      ],
      "metadata": {
        "colab": {
          "base_uri": "https://localhost:8080/",
          "height": 128
        },
        "id": "mAnYcNxX4Gzd",
        "outputId": "ec99f6e6-6057-496b-8ae3-9d00d89b2ccb"
      },
      "execution_count": 34,
      "outputs": [
        {
          "output_type": "execute_result",
          "data": {
            "text/plain": [
              "Pipeline(steps=[('simpleimputer', SimpleImputer()),\n",
              "                ('standardscaler', StandardScaler())])"
            ],
            "text/html": [
              "<style>#sk-d52287df-65b1-4261-bf8e-abd9149f4ddf {color: black;background-color: white;}#sk-d52287df-65b1-4261-bf8e-abd9149f4ddf pre{padding: 0;}#sk-d52287df-65b1-4261-bf8e-abd9149f4ddf div.sk-toggleable {background-color: white;}#sk-d52287df-65b1-4261-bf8e-abd9149f4ddf label.sk-toggleable__label {cursor: pointer;display: block;width: 100%;margin-bottom: 0;padding: 0.3em;box-sizing: border-box;text-align: center;}#sk-d52287df-65b1-4261-bf8e-abd9149f4ddf label.sk-toggleable__label-arrow:before {content: \"▸\";float: left;margin-right: 0.25em;color: #696969;}#sk-d52287df-65b1-4261-bf8e-abd9149f4ddf label.sk-toggleable__label-arrow:hover:before {color: black;}#sk-d52287df-65b1-4261-bf8e-abd9149f4ddf div.sk-estimator:hover label.sk-toggleable__label-arrow:before {color: black;}#sk-d52287df-65b1-4261-bf8e-abd9149f4ddf div.sk-toggleable__content {max-height: 0;max-width: 0;overflow: hidden;text-align: left;background-color: #f0f8ff;}#sk-d52287df-65b1-4261-bf8e-abd9149f4ddf div.sk-toggleable__content pre {margin: 0.2em;color: black;border-radius: 0.25em;background-color: #f0f8ff;}#sk-d52287df-65b1-4261-bf8e-abd9149f4ddf input.sk-toggleable__control:checked~div.sk-toggleable__content {max-height: 200px;max-width: 100%;overflow: auto;}#sk-d52287df-65b1-4261-bf8e-abd9149f4ddf input.sk-toggleable__control:checked~label.sk-toggleable__label-arrow:before {content: \"▾\";}#sk-d52287df-65b1-4261-bf8e-abd9149f4ddf div.sk-estimator input.sk-toggleable__control:checked~label.sk-toggleable__label {background-color: #d4ebff;}#sk-d52287df-65b1-4261-bf8e-abd9149f4ddf div.sk-label input.sk-toggleable__control:checked~label.sk-toggleable__label {background-color: #d4ebff;}#sk-d52287df-65b1-4261-bf8e-abd9149f4ddf input.sk-hidden--visually {border: 0;clip: rect(1px 1px 1px 1px);clip: rect(1px, 1px, 1px, 1px);height: 1px;margin: -1px;overflow: hidden;padding: 0;position: absolute;width: 1px;}#sk-d52287df-65b1-4261-bf8e-abd9149f4ddf div.sk-estimator {font-family: monospace;background-color: #f0f8ff;border: 1px dotted black;border-radius: 0.25em;box-sizing: border-box;margin-bottom: 0.5em;}#sk-d52287df-65b1-4261-bf8e-abd9149f4ddf div.sk-estimator:hover {background-color: #d4ebff;}#sk-d52287df-65b1-4261-bf8e-abd9149f4ddf div.sk-parallel-item::after {content: \"\";width: 100%;border-bottom: 1px solid gray;flex-grow: 1;}#sk-d52287df-65b1-4261-bf8e-abd9149f4ddf div.sk-label:hover label.sk-toggleable__label {background-color: #d4ebff;}#sk-d52287df-65b1-4261-bf8e-abd9149f4ddf div.sk-serial::before {content: \"\";position: absolute;border-left: 1px solid gray;box-sizing: border-box;top: 2em;bottom: 0;left: 50%;}#sk-d52287df-65b1-4261-bf8e-abd9149f4ddf div.sk-serial {display: flex;flex-direction: column;align-items: center;background-color: white;padding-right: 0.2em;padding-left: 0.2em;}#sk-d52287df-65b1-4261-bf8e-abd9149f4ddf div.sk-item {z-index: 1;}#sk-d52287df-65b1-4261-bf8e-abd9149f4ddf div.sk-parallel {display: flex;align-items: stretch;justify-content: center;background-color: white;}#sk-d52287df-65b1-4261-bf8e-abd9149f4ddf div.sk-parallel::before {content: \"\";position: absolute;border-left: 1px solid gray;box-sizing: border-box;top: 2em;bottom: 0;left: 50%;}#sk-d52287df-65b1-4261-bf8e-abd9149f4ddf div.sk-parallel-item {display: flex;flex-direction: column;position: relative;background-color: white;}#sk-d52287df-65b1-4261-bf8e-abd9149f4ddf div.sk-parallel-item:first-child::after {align-self: flex-end;width: 50%;}#sk-d52287df-65b1-4261-bf8e-abd9149f4ddf div.sk-parallel-item:last-child::after {align-self: flex-start;width: 50%;}#sk-d52287df-65b1-4261-bf8e-abd9149f4ddf div.sk-parallel-item:only-child::after {width: 0;}#sk-d52287df-65b1-4261-bf8e-abd9149f4ddf div.sk-dashed-wrapped {border: 1px dashed gray;margin: 0 0.4em 0.5em 0.4em;box-sizing: border-box;padding-bottom: 0.4em;background-color: white;position: relative;}#sk-d52287df-65b1-4261-bf8e-abd9149f4ddf div.sk-label label {font-family: monospace;font-weight: bold;background-color: white;display: inline-block;line-height: 1.2em;}#sk-d52287df-65b1-4261-bf8e-abd9149f4ddf div.sk-label-container {position: relative;z-index: 2;text-align: center;}#sk-d52287df-65b1-4261-bf8e-abd9149f4ddf div.sk-container {/* jupyter's `normalize.less` sets `[hidden] { display: none; }` but bootstrap.min.css set `[hidden] { display: none !important; }` so we also need the `!important` here to be able to override the default hidden behavior on the sphinx rendered scikit-learn.org. See: https://github.com/scikit-learn/scikit-learn/issues/21755 */display: inline-block !important;position: relative;}#sk-d52287df-65b1-4261-bf8e-abd9149f4ddf div.sk-text-repr-fallback {display: none;}</style><div id=\"sk-d52287df-65b1-4261-bf8e-abd9149f4ddf\" class=\"sk-top-container\"><div class=\"sk-text-repr-fallback\"><pre>Pipeline(steps=[(&#x27;simpleimputer&#x27;, SimpleImputer()),\n",
              "                (&#x27;standardscaler&#x27;, StandardScaler())])</pre><b>Please rerun this cell to show the HTML repr or trust the notebook.</b></div><div class=\"sk-container\" hidden><div class=\"sk-item sk-dashed-wrapped\"><div class=\"sk-label-container\"><div class=\"sk-label sk-toggleable\"><input class=\"sk-toggleable__control sk-hidden--visually\" id=\"41990674-d90d-4e4d-a7b0-491cd053f5e2\" type=\"checkbox\" ><label for=\"41990674-d90d-4e4d-a7b0-491cd053f5e2\" class=\"sk-toggleable__label sk-toggleable__label-arrow\">Pipeline</label><div class=\"sk-toggleable__content\"><pre>Pipeline(steps=[(&#x27;simpleimputer&#x27;, SimpleImputer()),\n",
              "                (&#x27;standardscaler&#x27;, StandardScaler())])</pre></div></div></div><div class=\"sk-serial\"><div class=\"sk-item\"><div class=\"sk-estimator sk-toggleable\"><input class=\"sk-toggleable__control sk-hidden--visually\" id=\"a8459d48-2f56-400b-bdde-7dfc7eda29bb\" type=\"checkbox\" ><label for=\"a8459d48-2f56-400b-bdde-7dfc7eda29bb\" class=\"sk-toggleable__label sk-toggleable__label-arrow\">SimpleImputer</label><div class=\"sk-toggleable__content\"><pre>SimpleImputer()</pre></div></div></div><div class=\"sk-item\"><div class=\"sk-estimator sk-toggleable\"><input class=\"sk-toggleable__control sk-hidden--visually\" id=\"ffd3e01e-d788-41bb-9dcb-94b1306cfd9b\" type=\"checkbox\" ><label for=\"ffd3e01e-d788-41bb-9dcb-94b1306cfd9b\" class=\"sk-toggleable__label sk-toggleable__label-arrow\">StandardScaler</label><div class=\"sk-toggleable__content\"><pre>StandardScaler()</pre></div></div></div></div></div></div></div>"
            ]
          },
          "metadata": {},
          "execution_count": 34
        }
      ]
    },
    {
      "cell_type": "code",
      "source": [
        "### create pipeline for categorical\n",
        "categorical_pipeline = make_pipeline(freq_imputer, ohe)\n",
        "categorical_pipeline"
      ],
      "metadata": {
        "colab": {
          "base_uri": "https://localhost:8080/",
          "height": 128
        },
        "id": "ZuDcii9r4Jre",
        "outputId": "98d1c42e-1135-478c-fe6e-1fef51abd5bf"
      },
      "execution_count": 35,
      "outputs": [
        {
          "output_type": "execute_result",
          "data": {
            "text/plain": [
              "Pipeline(steps=[('simpleimputer', SimpleImputer(strategy='most_frequent')),\n",
              "                ('onehotencoder',\n",
              "                 OneHotEncoder(handle_unknown='ignore', sparse=False))])"
            ],
            "text/html": [
              "<style>#sk-23c18183-3432-4c1e-99f5-02356d1e4a53 {color: black;background-color: white;}#sk-23c18183-3432-4c1e-99f5-02356d1e4a53 pre{padding: 0;}#sk-23c18183-3432-4c1e-99f5-02356d1e4a53 div.sk-toggleable {background-color: white;}#sk-23c18183-3432-4c1e-99f5-02356d1e4a53 label.sk-toggleable__label {cursor: pointer;display: block;width: 100%;margin-bottom: 0;padding: 0.3em;box-sizing: border-box;text-align: center;}#sk-23c18183-3432-4c1e-99f5-02356d1e4a53 label.sk-toggleable__label-arrow:before {content: \"▸\";float: left;margin-right: 0.25em;color: #696969;}#sk-23c18183-3432-4c1e-99f5-02356d1e4a53 label.sk-toggleable__label-arrow:hover:before {color: black;}#sk-23c18183-3432-4c1e-99f5-02356d1e4a53 div.sk-estimator:hover label.sk-toggleable__label-arrow:before {color: black;}#sk-23c18183-3432-4c1e-99f5-02356d1e4a53 div.sk-toggleable__content {max-height: 0;max-width: 0;overflow: hidden;text-align: left;background-color: #f0f8ff;}#sk-23c18183-3432-4c1e-99f5-02356d1e4a53 div.sk-toggleable__content pre {margin: 0.2em;color: black;border-radius: 0.25em;background-color: #f0f8ff;}#sk-23c18183-3432-4c1e-99f5-02356d1e4a53 input.sk-toggleable__control:checked~div.sk-toggleable__content {max-height: 200px;max-width: 100%;overflow: auto;}#sk-23c18183-3432-4c1e-99f5-02356d1e4a53 input.sk-toggleable__control:checked~label.sk-toggleable__label-arrow:before {content: \"▾\";}#sk-23c18183-3432-4c1e-99f5-02356d1e4a53 div.sk-estimator input.sk-toggleable__control:checked~label.sk-toggleable__label {background-color: #d4ebff;}#sk-23c18183-3432-4c1e-99f5-02356d1e4a53 div.sk-label input.sk-toggleable__control:checked~label.sk-toggleable__label {background-color: #d4ebff;}#sk-23c18183-3432-4c1e-99f5-02356d1e4a53 input.sk-hidden--visually {border: 0;clip: rect(1px 1px 1px 1px);clip: rect(1px, 1px, 1px, 1px);height: 1px;margin: -1px;overflow: hidden;padding: 0;position: absolute;width: 1px;}#sk-23c18183-3432-4c1e-99f5-02356d1e4a53 div.sk-estimator {font-family: monospace;background-color: #f0f8ff;border: 1px dotted black;border-radius: 0.25em;box-sizing: border-box;margin-bottom: 0.5em;}#sk-23c18183-3432-4c1e-99f5-02356d1e4a53 div.sk-estimator:hover {background-color: #d4ebff;}#sk-23c18183-3432-4c1e-99f5-02356d1e4a53 div.sk-parallel-item::after {content: \"\";width: 100%;border-bottom: 1px solid gray;flex-grow: 1;}#sk-23c18183-3432-4c1e-99f5-02356d1e4a53 div.sk-label:hover label.sk-toggleable__label {background-color: #d4ebff;}#sk-23c18183-3432-4c1e-99f5-02356d1e4a53 div.sk-serial::before {content: \"\";position: absolute;border-left: 1px solid gray;box-sizing: border-box;top: 2em;bottom: 0;left: 50%;}#sk-23c18183-3432-4c1e-99f5-02356d1e4a53 div.sk-serial {display: flex;flex-direction: column;align-items: center;background-color: white;padding-right: 0.2em;padding-left: 0.2em;}#sk-23c18183-3432-4c1e-99f5-02356d1e4a53 div.sk-item {z-index: 1;}#sk-23c18183-3432-4c1e-99f5-02356d1e4a53 div.sk-parallel {display: flex;align-items: stretch;justify-content: center;background-color: white;}#sk-23c18183-3432-4c1e-99f5-02356d1e4a53 div.sk-parallel::before {content: \"\";position: absolute;border-left: 1px solid gray;box-sizing: border-box;top: 2em;bottom: 0;left: 50%;}#sk-23c18183-3432-4c1e-99f5-02356d1e4a53 div.sk-parallel-item {display: flex;flex-direction: column;position: relative;background-color: white;}#sk-23c18183-3432-4c1e-99f5-02356d1e4a53 div.sk-parallel-item:first-child::after {align-self: flex-end;width: 50%;}#sk-23c18183-3432-4c1e-99f5-02356d1e4a53 div.sk-parallel-item:last-child::after {align-self: flex-start;width: 50%;}#sk-23c18183-3432-4c1e-99f5-02356d1e4a53 div.sk-parallel-item:only-child::after {width: 0;}#sk-23c18183-3432-4c1e-99f5-02356d1e4a53 div.sk-dashed-wrapped {border: 1px dashed gray;margin: 0 0.4em 0.5em 0.4em;box-sizing: border-box;padding-bottom: 0.4em;background-color: white;position: relative;}#sk-23c18183-3432-4c1e-99f5-02356d1e4a53 div.sk-label label {font-family: monospace;font-weight: bold;background-color: white;display: inline-block;line-height: 1.2em;}#sk-23c18183-3432-4c1e-99f5-02356d1e4a53 div.sk-label-container {position: relative;z-index: 2;text-align: center;}#sk-23c18183-3432-4c1e-99f5-02356d1e4a53 div.sk-container {/* jupyter's `normalize.less` sets `[hidden] { display: none; }` but bootstrap.min.css set `[hidden] { display: none !important; }` so we also need the `!important` here to be able to override the default hidden behavior on the sphinx rendered scikit-learn.org. See: https://github.com/scikit-learn/scikit-learn/issues/21755 */display: inline-block !important;position: relative;}#sk-23c18183-3432-4c1e-99f5-02356d1e4a53 div.sk-text-repr-fallback {display: none;}</style><div id=\"sk-23c18183-3432-4c1e-99f5-02356d1e4a53\" class=\"sk-top-container\"><div class=\"sk-text-repr-fallback\"><pre>Pipeline(steps=[(&#x27;simpleimputer&#x27;, SimpleImputer(strategy=&#x27;most_frequent&#x27;)),\n",
              "                (&#x27;onehotencoder&#x27;,\n",
              "                 OneHotEncoder(handle_unknown=&#x27;ignore&#x27;, sparse=False))])</pre><b>Please rerun this cell to show the HTML repr or trust the notebook.</b></div><div class=\"sk-container\" hidden><div class=\"sk-item sk-dashed-wrapped\"><div class=\"sk-label-container\"><div class=\"sk-label sk-toggleable\"><input class=\"sk-toggleable__control sk-hidden--visually\" id=\"1a9b4503-fe0d-49fb-9233-f93ef97eedd4\" type=\"checkbox\" ><label for=\"1a9b4503-fe0d-49fb-9233-f93ef97eedd4\" class=\"sk-toggleable__label sk-toggleable__label-arrow\">Pipeline</label><div class=\"sk-toggleable__content\"><pre>Pipeline(steps=[(&#x27;simpleimputer&#x27;, SimpleImputer(strategy=&#x27;most_frequent&#x27;)),\n",
              "                (&#x27;onehotencoder&#x27;,\n",
              "                 OneHotEncoder(handle_unknown=&#x27;ignore&#x27;, sparse=False))])</pre></div></div></div><div class=\"sk-serial\"><div class=\"sk-item\"><div class=\"sk-estimator sk-toggleable\"><input class=\"sk-toggleable__control sk-hidden--visually\" id=\"2753073d-b35d-4e99-ba77-96342bd0a403\" type=\"checkbox\" ><label for=\"2753073d-b35d-4e99-ba77-96342bd0a403\" class=\"sk-toggleable__label sk-toggleable__label-arrow\">SimpleImputer</label><div class=\"sk-toggleable__content\"><pre>SimpleImputer(strategy=&#x27;most_frequent&#x27;)</pre></div></div></div><div class=\"sk-item\"><div class=\"sk-estimator sk-toggleable\"><input class=\"sk-toggleable__control sk-hidden--visually\" id=\"51ae7e4e-2a9d-4f8f-8644-c16645e5cbfd\" type=\"checkbox\" ><label for=\"51ae7e4e-2a9d-4f8f-8644-c16645e5cbfd\" class=\"sk-toggleable__label sk-toggleable__label-arrow\">OneHotEncoder</label><div class=\"sk-toggleable__content\"><pre>OneHotEncoder(handle_unknown=&#x27;ignore&#x27;, sparse=False)</pre></div></div></div></div></div></div></div>"
            ]
          },
          "metadata": {},
          "execution_count": 35
        }
      ]
    },
    {
      "cell_type": "code",
      "source": [
        "### match/pair the pipeline and the corresponding selector\n",
        "num_tuple = (numeric_pipeline, num_selector)\n",
        "cat_tuple = (categorical_pipeline, cat_selector)\n",
        "### build the pre-processor pipeline\n",
        "preprocessor_pipeline = make_column_transformer(num_tuple, cat_tuple)\n",
        "preprocessor_pipeline"
      ],
      "metadata": {
        "colab": {
          "base_uri": "https://localhost:8080/",
          "height": 154
        },
        "id": "jFWeoGyj4M4P",
        "outputId": "48fdc1d5-bee5-4905-dd5e-5dec72c2918f"
      },
      "execution_count": 36,
      "outputs": [
        {
          "output_type": "execute_result",
          "data": {
            "text/plain": [
              "ColumnTransformer(transformers=[('pipeline-1',\n",
              "                                 Pipeline(steps=[('simpleimputer',\n",
              "                                                  SimpleImputer()),\n",
              "                                                 ('standardscaler',\n",
              "                                                  StandardScaler())]),\n",
              "                                 <sklearn.compose._column_transformer.make_column_selector object at 0x7ff419e62990>),\n",
              "                                ('pipeline-2',\n",
              "                                 Pipeline(steps=[('simpleimputer',\n",
              "                                                  SimpleImputer(strategy='most_frequent')),\n",
              "                                                 ('onehotencoder',\n",
              "                                                  OneHotEncoder(handle_unknown='ignore',\n",
              "                                                                sparse=False))]),\n",
              "                                 <sklearn.compose._column_transformer.make_column_selector object at 0x7ff419e62b90>)])"
            ],
            "text/html": [
              "<style>#sk-8438e81d-c1f6-478e-bd48-9611abc08ced {color: black;background-color: white;}#sk-8438e81d-c1f6-478e-bd48-9611abc08ced pre{padding: 0;}#sk-8438e81d-c1f6-478e-bd48-9611abc08ced div.sk-toggleable {background-color: white;}#sk-8438e81d-c1f6-478e-bd48-9611abc08ced label.sk-toggleable__label {cursor: pointer;display: block;width: 100%;margin-bottom: 0;padding: 0.3em;box-sizing: border-box;text-align: center;}#sk-8438e81d-c1f6-478e-bd48-9611abc08ced label.sk-toggleable__label-arrow:before {content: \"▸\";float: left;margin-right: 0.25em;color: #696969;}#sk-8438e81d-c1f6-478e-bd48-9611abc08ced label.sk-toggleable__label-arrow:hover:before {color: black;}#sk-8438e81d-c1f6-478e-bd48-9611abc08ced div.sk-estimator:hover label.sk-toggleable__label-arrow:before {color: black;}#sk-8438e81d-c1f6-478e-bd48-9611abc08ced div.sk-toggleable__content {max-height: 0;max-width: 0;overflow: hidden;text-align: left;background-color: #f0f8ff;}#sk-8438e81d-c1f6-478e-bd48-9611abc08ced div.sk-toggleable__content pre {margin: 0.2em;color: black;border-radius: 0.25em;background-color: #f0f8ff;}#sk-8438e81d-c1f6-478e-bd48-9611abc08ced input.sk-toggleable__control:checked~div.sk-toggleable__content {max-height: 200px;max-width: 100%;overflow: auto;}#sk-8438e81d-c1f6-478e-bd48-9611abc08ced input.sk-toggleable__control:checked~label.sk-toggleable__label-arrow:before {content: \"▾\";}#sk-8438e81d-c1f6-478e-bd48-9611abc08ced div.sk-estimator input.sk-toggleable__control:checked~label.sk-toggleable__label {background-color: #d4ebff;}#sk-8438e81d-c1f6-478e-bd48-9611abc08ced div.sk-label input.sk-toggleable__control:checked~label.sk-toggleable__label {background-color: #d4ebff;}#sk-8438e81d-c1f6-478e-bd48-9611abc08ced input.sk-hidden--visually {border: 0;clip: rect(1px 1px 1px 1px);clip: rect(1px, 1px, 1px, 1px);height: 1px;margin: -1px;overflow: hidden;padding: 0;position: absolute;width: 1px;}#sk-8438e81d-c1f6-478e-bd48-9611abc08ced div.sk-estimator {font-family: monospace;background-color: #f0f8ff;border: 1px dotted black;border-radius: 0.25em;box-sizing: border-box;margin-bottom: 0.5em;}#sk-8438e81d-c1f6-478e-bd48-9611abc08ced div.sk-estimator:hover {background-color: #d4ebff;}#sk-8438e81d-c1f6-478e-bd48-9611abc08ced div.sk-parallel-item::after {content: \"\";width: 100%;border-bottom: 1px solid gray;flex-grow: 1;}#sk-8438e81d-c1f6-478e-bd48-9611abc08ced div.sk-label:hover label.sk-toggleable__label {background-color: #d4ebff;}#sk-8438e81d-c1f6-478e-bd48-9611abc08ced div.sk-serial::before {content: \"\";position: absolute;border-left: 1px solid gray;box-sizing: border-box;top: 2em;bottom: 0;left: 50%;}#sk-8438e81d-c1f6-478e-bd48-9611abc08ced div.sk-serial {display: flex;flex-direction: column;align-items: center;background-color: white;padding-right: 0.2em;padding-left: 0.2em;}#sk-8438e81d-c1f6-478e-bd48-9611abc08ced div.sk-item {z-index: 1;}#sk-8438e81d-c1f6-478e-bd48-9611abc08ced div.sk-parallel {display: flex;align-items: stretch;justify-content: center;background-color: white;}#sk-8438e81d-c1f6-478e-bd48-9611abc08ced div.sk-parallel::before {content: \"\";position: absolute;border-left: 1px solid gray;box-sizing: border-box;top: 2em;bottom: 0;left: 50%;}#sk-8438e81d-c1f6-478e-bd48-9611abc08ced div.sk-parallel-item {display: flex;flex-direction: column;position: relative;background-color: white;}#sk-8438e81d-c1f6-478e-bd48-9611abc08ced div.sk-parallel-item:first-child::after {align-self: flex-end;width: 50%;}#sk-8438e81d-c1f6-478e-bd48-9611abc08ced div.sk-parallel-item:last-child::after {align-self: flex-start;width: 50%;}#sk-8438e81d-c1f6-478e-bd48-9611abc08ced div.sk-parallel-item:only-child::after {width: 0;}#sk-8438e81d-c1f6-478e-bd48-9611abc08ced div.sk-dashed-wrapped {border: 1px dashed gray;margin: 0 0.4em 0.5em 0.4em;box-sizing: border-box;padding-bottom: 0.4em;background-color: white;position: relative;}#sk-8438e81d-c1f6-478e-bd48-9611abc08ced div.sk-label label {font-family: monospace;font-weight: bold;background-color: white;display: inline-block;line-height: 1.2em;}#sk-8438e81d-c1f6-478e-bd48-9611abc08ced div.sk-label-container {position: relative;z-index: 2;text-align: center;}#sk-8438e81d-c1f6-478e-bd48-9611abc08ced div.sk-container {/* jupyter's `normalize.less` sets `[hidden] { display: none; }` but bootstrap.min.css set `[hidden] { display: none !important; }` so we also need the `!important` here to be able to override the default hidden behavior on the sphinx rendered scikit-learn.org. See: https://github.com/scikit-learn/scikit-learn/issues/21755 */display: inline-block !important;position: relative;}#sk-8438e81d-c1f6-478e-bd48-9611abc08ced div.sk-text-repr-fallback {display: none;}</style><div id=\"sk-8438e81d-c1f6-478e-bd48-9611abc08ced\" class=\"sk-top-container\"><div class=\"sk-text-repr-fallback\"><pre>ColumnTransformer(transformers=[(&#x27;pipeline-1&#x27;,\n",
              "                                 Pipeline(steps=[(&#x27;simpleimputer&#x27;,\n",
              "                                                  SimpleImputer()),\n",
              "                                                 (&#x27;standardscaler&#x27;,\n",
              "                                                  StandardScaler())]),\n",
              "                                 &lt;sklearn.compose._column_transformer.make_column_selector object at 0x7ff419e62990&gt;),\n",
              "                                (&#x27;pipeline-2&#x27;,\n",
              "                                 Pipeline(steps=[(&#x27;simpleimputer&#x27;,\n",
              "                                                  SimpleImputer(strategy=&#x27;most_frequent&#x27;)),\n",
              "                                                 (&#x27;onehotencoder&#x27;,\n",
              "                                                  OneHotEncoder(handle_unknown=&#x27;ignore&#x27;,\n",
              "                                                                sparse=False))]),\n",
              "                                 &lt;sklearn.compose._column_transformer.make_column_selector object at 0x7ff419e62b90&gt;)])</pre><b>Please rerun this cell to show the HTML repr or trust the notebook.</b></div><div class=\"sk-container\" hidden><div class=\"sk-item sk-dashed-wrapped\"><div class=\"sk-label-container\"><div class=\"sk-label sk-toggleable\"><input class=\"sk-toggleable__control sk-hidden--visually\" id=\"3d3555dc-3773-4189-8f6d-37fdc69a8392\" type=\"checkbox\" ><label for=\"3d3555dc-3773-4189-8f6d-37fdc69a8392\" class=\"sk-toggleable__label sk-toggleable__label-arrow\">ColumnTransformer</label><div class=\"sk-toggleable__content\"><pre>ColumnTransformer(transformers=[(&#x27;pipeline-1&#x27;,\n",
              "                                 Pipeline(steps=[(&#x27;simpleimputer&#x27;,\n",
              "                                                  SimpleImputer()),\n",
              "                                                 (&#x27;standardscaler&#x27;,\n",
              "                                                  StandardScaler())]),\n",
              "                                 &lt;sklearn.compose._column_transformer.make_column_selector object at 0x7ff419e62990&gt;),\n",
              "                                (&#x27;pipeline-2&#x27;,\n",
              "                                 Pipeline(steps=[(&#x27;simpleimputer&#x27;,\n",
              "                                                  SimpleImputer(strategy=&#x27;most_frequent&#x27;)),\n",
              "                                                 (&#x27;onehotencoder&#x27;,\n",
              "                                                  OneHotEncoder(handle_unknown=&#x27;ignore&#x27;,\n",
              "                                                                sparse=False))]),\n",
              "                                 &lt;sklearn.compose._column_transformer.make_column_selector object at 0x7ff419e62b90&gt;)])</pre></div></div></div><div class=\"sk-parallel\"><div class=\"sk-parallel-item\"><div class=\"sk-item\"><div class=\"sk-label-container\"><div class=\"sk-label sk-toggleable\"><input class=\"sk-toggleable__control sk-hidden--visually\" id=\"ea2b04e5-8c3e-4710-b376-4e04df0e253e\" type=\"checkbox\" ><label for=\"ea2b04e5-8c3e-4710-b376-4e04df0e253e\" class=\"sk-toggleable__label sk-toggleable__label-arrow\">pipeline-1</label><div class=\"sk-toggleable__content\"><pre>&lt;sklearn.compose._column_transformer.make_column_selector object at 0x7ff419e62990&gt;</pre></div></div></div><div class=\"sk-serial\"><div class=\"sk-item\"><div class=\"sk-serial\"><div class=\"sk-item\"><div class=\"sk-estimator sk-toggleable\"><input class=\"sk-toggleable__control sk-hidden--visually\" id=\"b5d735cc-946b-461b-adf3-b1f200760b83\" type=\"checkbox\" ><label for=\"b5d735cc-946b-461b-adf3-b1f200760b83\" class=\"sk-toggleable__label sk-toggleable__label-arrow\">SimpleImputer</label><div class=\"sk-toggleable__content\"><pre>SimpleImputer()</pre></div></div></div><div class=\"sk-item\"><div class=\"sk-estimator sk-toggleable\"><input class=\"sk-toggleable__control sk-hidden--visually\" id=\"093c4dd1-a928-4df7-ace6-87d5ff9f5065\" type=\"checkbox\" ><label for=\"093c4dd1-a928-4df7-ace6-87d5ff9f5065\" class=\"sk-toggleable__label sk-toggleable__label-arrow\">StandardScaler</label><div class=\"sk-toggleable__content\"><pre>StandardScaler()</pre></div></div></div></div></div></div></div></div><div class=\"sk-parallel-item\"><div class=\"sk-item\"><div class=\"sk-label-container\"><div class=\"sk-label sk-toggleable\"><input class=\"sk-toggleable__control sk-hidden--visually\" id=\"7315dad6-ad82-4334-ac67-adf242b26e35\" type=\"checkbox\" ><label for=\"7315dad6-ad82-4334-ac67-adf242b26e35\" class=\"sk-toggleable__label sk-toggleable__label-arrow\">pipeline-2</label><div class=\"sk-toggleable__content\"><pre>&lt;sklearn.compose._column_transformer.make_column_selector object at 0x7ff419e62b90&gt;</pre></div></div></div><div class=\"sk-serial\"><div class=\"sk-item\"><div class=\"sk-serial\"><div class=\"sk-item\"><div class=\"sk-estimator sk-toggleable\"><input class=\"sk-toggleable__control sk-hidden--visually\" id=\"7b399ca3-36f8-4d46-af21-106692677b0d\" type=\"checkbox\" ><label for=\"7b399ca3-36f8-4d46-af21-106692677b0d\" class=\"sk-toggleable__label sk-toggleable__label-arrow\">SimpleImputer</label><div class=\"sk-toggleable__content\"><pre>SimpleImputer(strategy=&#x27;most_frequent&#x27;)</pre></div></div></div><div class=\"sk-item\"><div class=\"sk-estimator sk-toggleable\"><input class=\"sk-toggleable__control sk-hidden--visually\" id=\"25698c07-593b-4dd5-896b-670795cc181b\" type=\"checkbox\" ><label for=\"25698c07-593b-4dd5-896b-670795cc181b\" class=\"sk-toggleable__label sk-toggleable__label-arrow\">OneHotEncoder</label><div class=\"sk-toggleable__content\"><pre>OneHotEncoder(handle_unknown=&#x27;ignore&#x27;, sparse=False)</pre></div></div></div></div></div></div></div></div></div></div></div></div>"
            ]
          },
          "metadata": {},
          "execution_count": 36
        }
      ]
    },
    {
      "cell_type": "code",
      "source": [
        "### fit on train\n",
        "preprocessor_pipeline.fit(X_train)"
      ],
      "metadata": {
        "colab": {
          "base_uri": "https://localhost:8080/",
          "height": 154
        },
        "id": "lcRLxBel4Q9n",
        "outputId": "2b0d1c5d-4271-49a4-be09-500e4ca8e541"
      },
      "execution_count": 37,
      "outputs": [
        {
          "output_type": "execute_result",
          "data": {
            "text/plain": [
              "ColumnTransformer(transformers=[('pipeline-1',\n",
              "                                 Pipeline(steps=[('simpleimputer',\n",
              "                                                  SimpleImputer()),\n",
              "                                                 ('standardscaler',\n",
              "                                                  StandardScaler())]),\n",
              "                                 <sklearn.compose._column_transformer.make_column_selector object at 0x7ff419e62990>),\n",
              "                                ('pipeline-2',\n",
              "                                 Pipeline(steps=[('simpleimputer',\n",
              "                                                  SimpleImputer(strategy='most_frequent')),\n",
              "                                                 ('onehotencoder',\n",
              "                                                  OneHotEncoder(handle_unknown='ignore',\n",
              "                                                                sparse=False))]),\n",
              "                                 <sklearn.compose._column_transformer.make_column_selector object at 0x7ff419e62b90>)])"
            ],
            "text/html": [
              "<style>#sk-fa396d71-55f4-42fc-b659-75a66dbe8345 {color: black;background-color: white;}#sk-fa396d71-55f4-42fc-b659-75a66dbe8345 pre{padding: 0;}#sk-fa396d71-55f4-42fc-b659-75a66dbe8345 div.sk-toggleable {background-color: white;}#sk-fa396d71-55f4-42fc-b659-75a66dbe8345 label.sk-toggleable__label {cursor: pointer;display: block;width: 100%;margin-bottom: 0;padding: 0.3em;box-sizing: border-box;text-align: center;}#sk-fa396d71-55f4-42fc-b659-75a66dbe8345 label.sk-toggleable__label-arrow:before {content: \"▸\";float: left;margin-right: 0.25em;color: #696969;}#sk-fa396d71-55f4-42fc-b659-75a66dbe8345 label.sk-toggleable__label-arrow:hover:before {color: black;}#sk-fa396d71-55f4-42fc-b659-75a66dbe8345 div.sk-estimator:hover label.sk-toggleable__label-arrow:before {color: black;}#sk-fa396d71-55f4-42fc-b659-75a66dbe8345 div.sk-toggleable__content {max-height: 0;max-width: 0;overflow: hidden;text-align: left;background-color: #f0f8ff;}#sk-fa396d71-55f4-42fc-b659-75a66dbe8345 div.sk-toggleable__content pre {margin: 0.2em;color: black;border-radius: 0.25em;background-color: #f0f8ff;}#sk-fa396d71-55f4-42fc-b659-75a66dbe8345 input.sk-toggleable__control:checked~div.sk-toggleable__content {max-height: 200px;max-width: 100%;overflow: auto;}#sk-fa396d71-55f4-42fc-b659-75a66dbe8345 input.sk-toggleable__control:checked~label.sk-toggleable__label-arrow:before {content: \"▾\";}#sk-fa396d71-55f4-42fc-b659-75a66dbe8345 div.sk-estimator input.sk-toggleable__control:checked~label.sk-toggleable__label {background-color: #d4ebff;}#sk-fa396d71-55f4-42fc-b659-75a66dbe8345 div.sk-label input.sk-toggleable__control:checked~label.sk-toggleable__label {background-color: #d4ebff;}#sk-fa396d71-55f4-42fc-b659-75a66dbe8345 input.sk-hidden--visually {border: 0;clip: rect(1px 1px 1px 1px);clip: rect(1px, 1px, 1px, 1px);height: 1px;margin: -1px;overflow: hidden;padding: 0;position: absolute;width: 1px;}#sk-fa396d71-55f4-42fc-b659-75a66dbe8345 div.sk-estimator {font-family: monospace;background-color: #f0f8ff;border: 1px dotted black;border-radius: 0.25em;box-sizing: border-box;margin-bottom: 0.5em;}#sk-fa396d71-55f4-42fc-b659-75a66dbe8345 div.sk-estimator:hover {background-color: #d4ebff;}#sk-fa396d71-55f4-42fc-b659-75a66dbe8345 div.sk-parallel-item::after {content: \"\";width: 100%;border-bottom: 1px solid gray;flex-grow: 1;}#sk-fa396d71-55f4-42fc-b659-75a66dbe8345 div.sk-label:hover label.sk-toggleable__label {background-color: #d4ebff;}#sk-fa396d71-55f4-42fc-b659-75a66dbe8345 div.sk-serial::before {content: \"\";position: absolute;border-left: 1px solid gray;box-sizing: border-box;top: 2em;bottom: 0;left: 50%;}#sk-fa396d71-55f4-42fc-b659-75a66dbe8345 div.sk-serial {display: flex;flex-direction: column;align-items: center;background-color: white;padding-right: 0.2em;padding-left: 0.2em;}#sk-fa396d71-55f4-42fc-b659-75a66dbe8345 div.sk-item {z-index: 1;}#sk-fa396d71-55f4-42fc-b659-75a66dbe8345 div.sk-parallel {display: flex;align-items: stretch;justify-content: center;background-color: white;}#sk-fa396d71-55f4-42fc-b659-75a66dbe8345 div.sk-parallel::before {content: \"\";position: absolute;border-left: 1px solid gray;box-sizing: border-box;top: 2em;bottom: 0;left: 50%;}#sk-fa396d71-55f4-42fc-b659-75a66dbe8345 div.sk-parallel-item {display: flex;flex-direction: column;position: relative;background-color: white;}#sk-fa396d71-55f4-42fc-b659-75a66dbe8345 div.sk-parallel-item:first-child::after {align-self: flex-end;width: 50%;}#sk-fa396d71-55f4-42fc-b659-75a66dbe8345 div.sk-parallel-item:last-child::after {align-self: flex-start;width: 50%;}#sk-fa396d71-55f4-42fc-b659-75a66dbe8345 div.sk-parallel-item:only-child::after {width: 0;}#sk-fa396d71-55f4-42fc-b659-75a66dbe8345 div.sk-dashed-wrapped {border: 1px dashed gray;margin: 0 0.4em 0.5em 0.4em;box-sizing: border-box;padding-bottom: 0.4em;background-color: white;position: relative;}#sk-fa396d71-55f4-42fc-b659-75a66dbe8345 div.sk-label label {font-family: monospace;font-weight: bold;background-color: white;display: inline-block;line-height: 1.2em;}#sk-fa396d71-55f4-42fc-b659-75a66dbe8345 div.sk-label-container {position: relative;z-index: 2;text-align: center;}#sk-fa396d71-55f4-42fc-b659-75a66dbe8345 div.sk-container {/* jupyter's `normalize.less` sets `[hidden] { display: none; }` but bootstrap.min.css set `[hidden] { display: none !important; }` so we also need the `!important` here to be able to override the default hidden behavior on the sphinx rendered scikit-learn.org. See: https://github.com/scikit-learn/scikit-learn/issues/21755 */display: inline-block !important;position: relative;}#sk-fa396d71-55f4-42fc-b659-75a66dbe8345 div.sk-text-repr-fallback {display: none;}</style><div id=\"sk-fa396d71-55f4-42fc-b659-75a66dbe8345\" class=\"sk-top-container\"><div class=\"sk-text-repr-fallback\"><pre>ColumnTransformer(transformers=[(&#x27;pipeline-1&#x27;,\n",
              "                                 Pipeline(steps=[(&#x27;simpleimputer&#x27;,\n",
              "                                                  SimpleImputer()),\n",
              "                                                 (&#x27;standardscaler&#x27;,\n",
              "                                                  StandardScaler())]),\n",
              "                                 &lt;sklearn.compose._column_transformer.make_column_selector object at 0x7ff419e62990&gt;),\n",
              "                                (&#x27;pipeline-2&#x27;,\n",
              "                                 Pipeline(steps=[(&#x27;simpleimputer&#x27;,\n",
              "                                                  SimpleImputer(strategy=&#x27;most_frequent&#x27;)),\n",
              "                                                 (&#x27;onehotencoder&#x27;,\n",
              "                                                  OneHotEncoder(handle_unknown=&#x27;ignore&#x27;,\n",
              "                                                                sparse=False))]),\n",
              "                                 &lt;sklearn.compose._column_transformer.make_column_selector object at 0x7ff419e62b90&gt;)])</pre><b>Please rerun this cell to show the HTML repr or trust the notebook.</b></div><div class=\"sk-container\" hidden><div class=\"sk-item sk-dashed-wrapped\"><div class=\"sk-label-container\"><div class=\"sk-label sk-toggleable\"><input class=\"sk-toggleable__control sk-hidden--visually\" id=\"9d294f95-c108-4906-83b8-e5e0e4970e72\" type=\"checkbox\" ><label for=\"9d294f95-c108-4906-83b8-e5e0e4970e72\" class=\"sk-toggleable__label sk-toggleable__label-arrow\">ColumnTransformer</label><div class=\"sk-toggleable__content\"><pre>ColumnTransformer(transformers=[(&#x27;pipeline-1&#x27;,\n",
              "                                 Pipeline(steps=[(&#x27;simpleimputer&#x27;,\n",
              "                                                  SimpleImputer()),\n",
              "                                                 (&#x27;standardscaler&#x27;,\n",
              "                                                  StandardScaler())]),\n",
              "                                 &lt;sklearn.compose._column_transformer.make_column_selector object at 0x7ff419e62990&gt;),\n",
              "                                (&#x27;pipeline-2&#x27;,\n",
              "                                 Pipeline(steps=[(&#x27;simpleimputer&#x27;,\n",
              "                                                  SimpleImputer(strategy=&#x27;most_frequent&#x27;)),\n",
              "                                                 (&#x27;onehotencoder&#x27;,\n",
              "                                                  OneHotEncoder(handle_unknown=&#x27;ignore&#x27;,\n",
              "                                                                sparse=False))]),\n",
              "                                 &lt;sklearn.compose._column_transformer.make_column_selector object at 0x7ff419e62b90&gt;)])</pre></div></div></div><div class=\"sk-parallel\"><div class=\"sk-parallel-item\"><div class=\"sk-item\"><div class=\"sk-label-container\"><div class=\"sk-label sk-toggleable\"><input class=\"sk-toggleable__control sk-hidden--visually\" id=\"4f25dda3-fc9a-49d8-aa97-bfe184af64c6\" type=\"checkbox\" ><label for=\"4f25dda3-fc9a-49d8-aa97-bfe184af64c6\" class=\"sk-toggleable__label sk-toggleable__label-arrow\">pipeline-1</label><div class=\"sk-toggleable__content\"><pre>&lt;sklearn.compose._column_transformer.make_column_selector object at 0x7ff419e62990&gt;</pre></div></div></div><div class=\"sk-serial\"><div class=\"sk-item\"><div class=\"sk-serial\"><div class=\"sk-item\"><div class=\"sk-estimator sk-toggleable\"><input class=\"sk-toggleable__control sk-hidden--visually\" id=\"f9008c8a-4221-4541-a133-44fb01e495f2\" type=\"checkbox\" ><label for=\"f9008c8a-4221-4541-a133-44fb01e495f2\" class=\"sk-toggleable__label sk-toggleable__label-arrow\">SimpleImputer</label><div class=\"sk-toggleable__content\"><pre>SimpleImputer()</pre></div></div></div><div class=\"sk-item\"><div class=\"sk-estimator sk-toggleable\"><input class=\"sk-toggleable__control sk-hidden--visually\" id=\"9409488d-f9c7-4e30-9687-494f883aa114\" type=\"checkbox\" ><label for=\"9409488d-f9c7-4e30-9687-494f883aa114\" class=\"sk-toggleable__label sk-toggleable__label-arrow\">StandardScaler</label><div class=\"sk-toggleable__content\"><pre>StandardScaler()</pre></div></div></div></div></div></div></div></div><div class=\"sk-parallel-item\"><div class=\"sk-item\"><div class=\"sk-label-container\"><div class=\"sk-label sk-toggleable\"><input class=\"sk-toggleable__control sk-hidden--visually\" id=\"4b795472-7df7-412c-ac0b-84c3c8186ed0\" type=\"checkbox\" ><label for=\"4b795472-7df7-412c-ac0b-84c3c8186ed0\" class=\"sk-toggleable__label sk-toggleable__label-arrow\">pipeline-2</label><div class=\"sk-toggleable__content\"><pre>&lt;sklearn.compose._column_transformer.make_column_selector object at 0x7ff419e62b90&gt;</pre></div></div></div><div class=\"sk-serial\"><div class=\"sk-item\"><div class=\"sk-serial\"><div class=\"sk-item\"><div class=\"sk-estimator sk-toggleable\"><input class=\"sk-toggleable__control sk-hidden--visually\" id=\"d02d323d-40e8-4fde-921d-c674a8be3859\" type=\"checkbox\" ><label for=\"d02d323d-40e8-4fde-921d-c674a8be3859\" class=\"sk-toggleable__label sk-toggleable__label-arrow\">SimpleImputer</label><div class=\"sk-toggleable__content\"><pre>SimpleImputer(strategy=&#x27;most_frequent&#x27;)</pre></div></div></div><div class=\"sk-item\"><div class=\"sk-estimator sk-toggleable\"><input class=\"sk-toggleable__control sk-hidden--visually\" id=\"c7bf553f-608d-4efd-bfe9-ccc67c8badbe\" type=\"checkbox\" ><label for=\"c7bf553f-608d-4efd-bfe9-ccc67c8badbe\" class=\"sk-toggleable__label sk-toggleable__label-arrow\">OneHotEncoder</label><div class=\"sk-toggleable__content\"><pre>OneHotEncoder(handle_unknown=&#x27;ignore&#x27;, sparse=False)</pre></div></div></div></div></div></div></div></div></div></div></div></div>"
            ]
          },
          "metadata": {},
          "execution_count": 37
        }
      ]
    },
    {
      "cell_type": "code",
      "source": [
        "### transform train and test sets\n",
        "X_train_processed = preprocessor_pipeline.transform(X_train)\n",
        "X_test_processed = preprocessor_pipeline.transform(X_test)"
      ],
      "metadata": {
        "id": "DMMfsUh64XFf"
      },
      "execution_count": 38,
      "outputs": []
    },
    {
      "cell_type": "code",
      "source": [
        "### Check for missing values and that data is scaled and one-hot encoded\n",
        "print(np.isnan(X_train_processed).sum().sum(), 'missing values in training data')\n",
        "print(np.isnan(X_test_processed).sum().sum(), 'missing values in testing data')\n",
        "print('\\n')\n",
        "print('All data in X_train_processed are', X_train_processed.dtype)\n",
        "print('All data in X_test_processed are', X_test_processed.dtype)\n",
        "print('\\n')\n",
        "print('shape of data is', X_train_processed.shape)\n",
        "print('\\n')\n",
        "X_train_processed.shape\n",
        "### valdiate the new processed data's shape"
      ],
      "metadata": {
        "colab": {
          "base_uri": "https://localhost:8080/"
        },
        "id": "xssTNtbC4ZmE",
        "outputId": "59ec80b1-9975-48e9-edf9-58ae5a22664f"
      },
      "execution_count": 39,
      "outputs": [
        {
          "output_type": "stream",
          "name": "stdout",
          "text": [
            "0 missing values in training data\n",
            "0 missing values in testing data\n",
            "\n",
            "\n",
            "All data in X_train_processed are float64\n",
            "All data in X_test_processed are float64\n",
            "\n",
            "\n",
            "shape of data is (668, 7)\n",
            "\n",
            "\n"
          ]
        },
        {
          "output_type": "execute_result",
          "data": {
            "text/plain": [
              "(668, 7)"
            ]
          },
          "metadata": {},
          "execution_count": 39
        }
      ]
    },
    {
      "cell_type": "code",
      "source": [
        "X_test_processed.shape"
      ],
      "metadata": {
        "colab": {
          "base_uri": "https://localhost:8080/"
        },
        "id": "1XiwlcPL4dFa",
        "outputId": "cffdd8a0-5e10-4202-9e6d-254f8ee4dff9"
      },
      "execution_count": 40,
      "outputs": [
        {
          "output_type": "execute_result",
          "data": {
            "text/plain": [
              "(330, 7)"
            ]
          },
          "metadata": {},
          "execution_count": 40
        }
      ]
    },
    {
      "cell_type": "code",
      "source": [
        "### create the 1st model (Decision Tree)\n",
        "from sklearn.tree import DecisionTreeClassifier\n",
        "\n",
        "model = DecisionTreeClassifier(random_state = 42)\n",
        "model"
      ],
      "metadata": {
        "colab": {
          "base_uri": "https://localhost:8080/",
          "height": 75
        },
        "id": "3mN6ywva4jRb",
        "outputId": "b0d08587-8798-4210-df78-a19d6266c0ac"
      },
      "execution_count": 41,
      "outputs": [
        {
          "output_type": "execute_result",
          "data": {
            "text/plain": [
              "DecisionTreeClassifier(random_state=42)"
            ],
            "text/html": [
              "<style>#sk-2882da90-9420-47f7-b743-c988ed9d64cb {color: black;background-color: white;}#sk-2882da90-9420-47f7-b743-c988ed9d64cb pre{padding: 0;}#sk-2882da90-9420-47f7-b743-c988ed9d64cb div.sk-toggleable {background-color: white;}#sk-2882da90-9420-47f7-b743-c988ed9d64cb label.sk-toggleable__label {cursor: pointer;display: block;width: 100%;margin-bottom: 0;padding: 0.3em;box-sizing: border-box;text-align: center;}#sk-2882da90-9420-47f7-b743-c988ed9d64cb label.sk-toggleable__label-arrow:before {content: \"▸\";float: left;margin-right: 0.25em;color: #696969;}#sk-2882da90-9420-47f7-b743-c988ed9d64cb label.sk-toggleable__label-arrow:hover:before {color: black;}#sk-2882da90-9420-47f7-b743-c988ed9d64cb div.sk-estimator:hover label.sk-toggleable__label-arrow:before {color: black;}#sk-2882da90-9420-47f7-b743-c988ed9d64cb div.sk-toggleable__content {max-height: 0;max-width: 0;overflow: hidden;text-align: left;background-color: #f0f8ff;}#sk-2882da90-9420-47f7-b743-c988ed9d64cb div.sk-toggleable__content pre {margin: 0.2em;color: black;border-radius: 0.25em;background-color: #f0f8ff;}#sk-2882da90-9420-47f7-b743-c988ed9d64cb input.sk-toggleable__control:checked~div.sk-toggleable__content {max-height: 200px;max-width: 100%;overflow: auto;}#sk-2882da90-9420-47f7-b743-c988ed9d64cb input.sk-toggleable__control:checked~label.sk-toggleable__label-arrow:before {content: \"▾\";}#sk-2882da90-9420-47f7-b743-c988ed9d64cb div.sk-estimator input.sk-toggleable__control:checked~label.sk-toggleable__label {background-color: #d4ebff;}#sk-2882da90-9420-47f7-b743-c988ed9d64cb div.sk-label input.sk-toggleable__control:checked~label.sk-toggleable__label {background-color: #d4ebff;}#sk-2882da90-9420-47f7-b743-c988ed9d64cb input.sk-hidden--visually {border: 0;clip: rect(1px 1px 1px 1px);clip: rect(1px, 1px, 1px, 1px);height: 1px;margin: -1px;overflow: hidden;padding: 0;position: absolute;width: 1px;}#sk-2882da90-9420-47f7-b743-c988ed9d64cb div.sk-estimator {font-family: monospace;background-color: #f0f8ff;border: 1px dotted black;border-radius: 0.25em;box-sizing: border-box;margin-bottom: 0.5em;}#sk-2882da90-9420-47f7-b743-c988ed9d64cb div.sk-estimator:hover {background-color: #d4ebff;}#sk-2882da90-9420-47f7-b743-c988ed9d64cb div.sk-parallel-item::after {content: \"\";width: 100%;border-bottom: 1px solid gray;flex-grow: 1;}#sk-2882da90-9420-47f7-b743-c988ed9d64cb div.sk-label:hover label.sk-toggleable__label {background-color: #d4ebff;}#sk-2882da90-9420-47f7-b743-c988ed9d64cb div.sk-serial::before {content: \"\";position: absolute;border-left: 1px solid gray;box-sizing: border-box;top: 2em;bottom: 0;left: 50%;}#sk-2882da90-9420-47f7-b743-c988ed9d64cb div.sk-serial {display: flex;flex-direction: column;align-items: center;background-color: white;padding-right: 0.2em;padding-left: 0.2em;}#sk-2882da90-9420-47f7-b743-c988ed9d64cb div.sk-item {z-index: 1;}#sk-2882da90-9420-47f7-b743-c988ed9d64cb div.sk-parallel {display: flex;align-items: stretch;justify-content: center;background-color: white;}#sk-2882da90-9420-47f7-b743-c988ed9d64cb div.sk-parallel::before {content: \"\";position: absolute;border-left: 1px solid gray;box-sizing: border-box;top: 2em;bottom: 0;left: 50%;}#sk-2882da90-9420-47f7-b743-c988ed9d64cb div.sk-parallel-item {display: flex;flex-direction: column;position: relative;background-color: white;}#sk-2882da90-9420-47f7-b743-c988ed9d64cb div.sk-parallel-item:first-child::after {align-self: flex-end;width: 50%;}#sk-2882da90-9420-47f7-b743-c988ed9d64cb div.sk-parallel-item:last-child::after {align-self: flex-start;width: 50%;}#sk-2882da90-9420-47f7-b743-c988ed9d64cb div.sk-parallel-item:only-child::after {width: 0;}#sk-2882da90-9420-47f7-b743-c988ed9d64cb div.sk-dashed-wrapped {border: 1px dashed gray;margin: 0 0.4em 0.5em 0.4em;box-sizing: border-box;padding-bottom: 0.4em;background-color: white;position: relative;}#sk-2882da90-9420-47f7-b743-c988ed9d64cb div.sk-label label {font-family: monospace;font-weight: bold;background-color: white;display: inline-block;line-height: 1.2em;}#sk-2882da90-9420-47f7-b743-c988ed9d64cb div.sk-label-container {position: relative;z-index: 2;text-align: center;}#sk-2882da90-9420-47f7-b743-c988ed9d64cb div.sk-container {/* jupyter's `normalize.less` sets `[hidden] { display: none; }` but bootstrap.min.css set `[hidden] { display: none !important; }` so we also need the `!important` here to be able to override the default hidden behavior on the sphinx rendered scikit-learn.org. See: https://github.com/scikit-learn/scikit-learn/issues/21755 */display: inline-block !important;position: relative;}#sk-2882da90-9420-47f7-b743-c988ed9d64cb div.sk-text-repr-fallback {display: none;}</style><div id=\"sk-2882da90-9420-47f7-b743-c988ed9d64cb\" class=\"sk-top-container\"><div class=\"sk-text-repr-fallback\"><pre>DecisionTreeClassifier(random_state=42)</pre><b>Please rerun this cell to show the HTML repr or trust the notebook.</b></div><div class=\"sk-container\" hidden><div class=\"sk-item\"><div class=\"sk-estimator sk-toggleable\"><input class=\"sk-toggleable__control sk-hidden--visually\" id=\"364f58d7-c280-4c52-aa96-34d390428775\" type=\"checkbox\" checked><label for=\"364f58d7-c280-4c52-aa96-34d390428775\" class=\"sk-toggleable__label sk-toggleable__label-arrow\">DecisionTreeClassifier</label><div class=\"sk-toggleable__content\"><pre>DecisionTreeClassifier(random_state=42)</pre></div></div></div></div></div>"
            ]
          },
          "metadata": {},
          "execution_count": 41
        }
      ]
    },
    {
      "cell_type": "code",
      "source": [
        "model.fit(X_train_processed, y_train)"
      ],
      "metadata": {
        "colab": {
          "base_uri": "https://localhost:8080/",
          "height": 75
        },
        "id": "uZJiq-T44mj6",
        "outputId": "0612ca86-9d49-40e3-e93b-bb575b40746c"
      },
      "execution_count": 42,
      "outputs": [
        {
          "output_type": "execute_result",
          "data": {
            "text/plain": [
              "DecisionTreeClassifier(random_state=42)"
            ],
            "text/html": [
              "<style>#sk-048f3388-6916-44a0-adb6-0abbb79aea28 {color: black;background-color: white;}#sk-048f3388-6916-44a0-adb6-0abbb79aea28 pre{padding: 0;}#sk-048f3388-6916-44a0-adb6-0abbb79aea28 div.sk-toggleable {background-color: white;}#sk-048f3388-6916-44a0-adb6-0abbb79aea28 label.sk-toggleable__label {cursor: pointer;display: block;width: 100%;margin-bottom: 0;padding: 0.3em;box-sizing: border-box;text-align: center;}#sk-048f3388-6916-44a0-adb6-0abbb79aea28 label.sk-toggleable__label-arrow:before {content: \"▸\";float: left;margin-right: 0.25em;color: #696969;}#sk-048f3388-6916-44a0-adb6-0abbb79aea28 label.sk-toggleable__label-arrow:hover:before {color: black;}#sk-048f3388-6916-44a0-adb6-0abbb79aea28 div.sk-estimator:hover label.sk-toggleable__label-arrow:before {color: black;}#sk-048f3388-6916-44a0-adb6-0abbb79aea28 div.sk-toggleable__content {max-height: 0;max-width: 0;overflow: hidden;text-align: left;background-color: #f0f8ff;}#sk-048f3388-6916-44a0-adb6-0abbb79aea28 div.sk-toggleable__content pre {margin: 0.2em;color: black;border-radius: 0.25em;background-color: #f0f8ff;}#sk-048f3388-6916-44a0-adb6-0abbb79aea28 input.sk-toggleable__control:checked~div.sk-toggleable__content {max-height: 200px;max-width: 100%;overflow: auto;}#sk-048f3388-6916-44a0-adb6-0abbb79aea28 input.sk-toggleable__control:checked~label.sk-toggleable__label-arrow:before {content: \"▾\";}#sk-048f3388-6916-44a0-adb6-0abbb79aea28 div.sk-estimator input.sk-toggleable__control:checked~label.sk-toggleable__label {background-color: #d4ebff;}#sk-048f3388-6916-44a0-adb6-0abbb79aea28 div.sk-label input.sk-toggleable__control:checked~label.sk-toggleable__label {background-color: #d4ebff;}#sk-048f3388-6916-44a0-adb6-0abbb79aea28 input.sk-hidden--visually {border: 0;clip: rect(1px 1px 1px 1px);clip: rect(1px, 1px, 1px, 1px);height: 1px;margin: -1px;overflow: hidden;padding: 0;position: absolute;width: 1px;}#sk-048f3388-6916-44a0-adb6-0abbb79aea28 div.sk-estimator {font-family: monospace;background-color: #f0f8ff;border: 1px dotted black;border-radius: 0.25em;box-sizing: border-box;margin-bottom: 0.5em;}#sk-048f3388-6916-44a0-adb6-0abbb79aea28 div.sk-estimator:hover {background-color: #d4ebff;}#sk-048f3388-6916-44a0-adb6-0abbb79aea28 div.sk-parallel-item::after {content: \"\";width: 100%;border-bottom: 1px solid gray;flex-grow: 1;}#sk-048f3388-6916-44a0-adb6-0abbb79aea28 div.sk-label:hover label.sk-toggleable__label {background-color: #d4ebff;}#sk-048f3388-6916-44a0-adb6-0abbb79aea28 div.sk-serial::before {content: \"\";position: absolute;border-left: 1px solid gray;box-sizing: border-box;top: 2em;bottom: 0;left: 50%;}#sk-048f3388-6916-44a0-adb6-0abbb79aea28 div.sk-serial {display: flex;flex-direction: column;align-items: center;background-color: white;padding-right: 0.2em;padding-left: 0.2em;}#sk-048f3388-6916-44a0-adb6-0abbb79aea28 div.sk-item {z-index: 1;}#sk-048f3388-6916-44a0-adb6-0abbb79aea28 div.sk-parallel {display: flex;align-items: stretch;justify-content: center;background-color: white;}#sk-048f3388-6916-44a0-adb6-0abbb79aea28 div.sk-parallel::before {content: \"\";position: absolute;border-left: 1px solid gray;box-sizing: border-box;top: 2em;bottom: 0;left: 50%;}#sk-048f3388-6916-44a0-adb6-0abbb79aea28 div.sk-parallel-item {display: flex;flex-direction: column;position: relative;background-color: white;}#sk-048f3388-6916-44a0-adb6-0abbb79aea28 div.sk-parallel-item:first-child::after {align-self: flex-end;width: 50%;}#sk-048f3388-6916-44a0-adb6-0abbb79aea28 div.sk-parallel-item:last-child::after {align-self: flex-start;width: 50%;}#sk-048f3388-6916-44a0-adb6-0abbb79aea28 div.sk-parallel-item:only-child::after {width: 0;}#sk-048f3388-6916-44a0-adb6-0abbb79aea28 div.sk-dashed-wrapped {border: 1px dashed gray;margin: 0 0.4em 0.5em 0.4em;box-sizing: border-box;padding-bottom: 0.4em;background-color: white;position: relative;}#sk-048f3388-6916-44a0-adb6-0abbb79aea28 div.sk-label label {font-family: monospace;font-weight: bold;background-color: white;display: inline-block;line-height: 1.2em;}#sk-048f3388-6916-44a0-adb6-0abbb79aea28 div.sk-label-container {position: relative;z-index: 2;text-align: center;}#sk-048f3388-6916-44a0-adb6-0abbb79aea28 div.sk-container {/* jupyter's `normalize.less` sets `[hidden] { display: none; }` but bootstrap.min.css set `[hidden] { display: none !important; }` so we also need the `!important` here to be able to override the default hidden behavior on the sphinx rendered scikit-learn.org. See: https://github.com/scikit-learn/scikit-learn/issues/21755 */display: inline-block !important;position: relative;}#sk-048f3388-6916-44a0-adb6-0abbb79aea28 div.sk-text-repr-fallback {display: none;}</style><div id=\"sk-048f3388-6916-44a0-adb6-0abbb79aea28\" class=\"sk-top-container\"><div class=\"sk-text-repr-fallback\"><pre>DecisionTreeClassifier(random_state=42)</pre><b>Please rerun this cell to show the HTML repr or trust the notebook.</b></div><div class=\"sk-container\" hidden><div class=\"sk-item\"><div class=\"sk-estimator sk-toggleable\"><input class=\"sk-toggleable__control sk-hidden--visually\" id=\"d90b7278-70a3-4bfe-8ecd-1305e07f7eda\" type=\"checkbox\" checked><label for=\"d90b7278-70a3-4bfe-8ecd-1305e07f7eda\" class=\"sk-toggleable__label sk-toggleable__label-arrow\">DecisionTreeClassifier</label><div class=\"sk-toggleable__content\"><pre>DecisionTreeClassifier(random_state=42)</pre></div></div></div></div></div>"
            ]
          },
          "metadata": {},
          "execution_count": 42
        }
      ]
    },
    {
      "cell_type": "code",
      "source": [
        "### get the parameters\n",
        "model.get_params()"
      ],
      "metadata": {
        "colab": {
          "base_uri": "https://localhost:8080/"
        },
        "id": "4aFWC0uR4nQ6",
        "outputId": "aa36d481-fb3b-4bfa-e602-7443e5daa352"
      },
      "execution_count": 43,
      "outputs": [
        {
          "output_type": "execute_result",
          "data": {
            "text/plain": [
              "{'ccp_alpha': 0.0,\n",
              " 'class_weight': None,\n",
              " 'criterion': 'gini',\n",
              " 'max_depth': None,\n",
              " 'max_features': None,\n",
              " 'max_leaf_nodes': None,\n",
              " 'min_impurity_decrease': 0.0,\n",
              " 'min_samples_leaf': 1,\n",
              " 'min_samples_split': 2,\n",
              " 'min_weight_fraction_leaf': 0.0,\n",
              " 'random_state': 42,\n",
              " 'splitter': 'best'}"
            ]
          },
          "metadata": {},
          "execution_count": 43
        }
      ]
    },
    {
      "cell_type": "code",
      "source": [
        "### evaluate the model (training) and (testing)\n",
        "train_score_1= model.score(X_train_processed, y_train)\n",
        "test_score_1 = model.score(X_test_processed, y_test)\n",
        "print(train_score_1)\n",
        "print(test_score_1)"
      ],
      "metadata": {
        "colab": {
          "base_uri": "https://localhost:8080/"
        },
        "id": "J9ewXjNZ4pf3",
        "outputId": "f46ca5e3-8229-4c79-d289-64ef867affac"
      },
      "execution_count": 44,
      "outputs": [
        {
          "output_type": "stream",
          "name": "stdout",
          "text": [
            "0.9985029940119761\n",
            "0.21818181818181817\n"
          ]
        }
      ]
    },
    {
      "cell_type": "code",
      "source": [
        "### values to try for max_depth:\n",
        "max_depth_range = list(range(2, 20))\n",
        "### List to store the score for each value of max_depth:\n",
        "r2 = []\n",
        "for depth in max_depth_range:\n",
        "    model = DecisionTreeRegressor(max_depth = depth, \n",
        "                             random_state = 42)\n",
        "    model.fit(X_train_processed, y_train)\n",
        "    score = model.score(X_test_processed, y_test)\n",
        "    r2.append(score)"
      ],
      "metadata": {
        "id": "uXAzMMac4viP"
      },
      "execution_count": 45,
      "outputs": []
    },
    {
      "cell_type": "code",
      "source": [
        "import matplotlib.pyplot as plt\n",
        "plt.plot(max_depth_range, r2)\n",
        "plt.xlabel('Max_depth')\n",
        "plt.ylabel('R2');"
      ],
      "metadata": {
        "colab": {
          "base_uri": "https://localhost:8080/",
          "height": 280
        },
        "id": "Cd2cLYm64zc_",
        "outputId": "2eb40000-8a43-48ba-fad7-30d0a003d332"
      },
      "execution_count": 46,
      "outputs": [
        {
          "output_type": "display_data",
          "data": {
            "text/plain": [
              "<Figure size 432x288 with 1 Axes>"
            ],
            "image/png": "[encoded data removed]"
          },
          "metadata": {
            "needs_background": "light"
          }
        }
      ]
    }
  ]
}